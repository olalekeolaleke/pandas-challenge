{
 "cells": [
  {
   "cell_type": "markdown",
   "id": "2402af3a",
   "metadata": {},
   "source": [
    "# Python Fundamentals Workshop"
   ]
  },
  {
   "cell_type": "markdown",
   "id": "2d0645ba",
   "metadata": {},
   "source": [
    "<img src=\"https://www.python.org/static/community_logos/python-logo-master-v3-TM.png\" title=\"Python Logo\"/>"
   ]
  },
  {
   "cell_type": "markdown",
   "id": "9eb01367",
   "metadata": {},
   "source": [
    "The main source of materials is the [official wiki page of Python](https://wiki.python.org/moin/BeginnersGuide/Programmers) (subsequently [this tutorial](https://python.land/python-tutorial)) and [Python cheatsheet](https://www.pythoncheatsheet.org/)."
   ]
  },
  {
   "cell_type": "markdown",
   "id": "882a7412",
   "metadata": {},
   "source": [
    "# The Zen of Python"
   ]
  },
  {
   "cell_type": "markdown",
   "id": "a0f363ab",
   "metadata": {},
   "source": [
    "Try `import this` to learn about some advocated principles by Python's gurus."
   ]
  },
  {
   "cell_type": "code",
   "execution_count": 1,
   "id": "21f64e7d",
   "metadata": {},
   "outputs": [
    {
     "name": "stdout",
     "output_type": "stream",
     "text": [
      "The Zen of Python, by Tim Peters\n",
      "\n",
      "Beautiful is better than ugly.\n",
      "Explicit is better than implicit.\n",
      "Simple is better than complex.\n",
      "Complex is better than complicated.\n",
      "Flat is better than nested.\n",
      "Sparse is better than dense.\n",
      "Readability counts.\n",
      "Special cases aren't special enough to break the rules.\n",
      "Although practicality beats purity.\n",
      "Errors should never pass silently.\n",
      "Unless explicitly silenced.\n",
      "In the face of ambiguity, refuse the temptation to guess.\n",
      "There should be one-- and preferably only one --obvious way to do it.\n",
      "Although that way may not be obvious at first unless you're Dutch.\n",
      "Now is better than never.\n",
      "Although never is often better than *right* now.\n",
      "If the implementation is hard to explain, it's a bad idea.\n",
      "If the implementation is easy to explain, it may be a good idea.\n",
      "Namespaces are one honking great idea -- let's do more of those!\n"
     ]
    }
   ],
   "source": [
    "import this"
   ]
  },
  {
   "cell_type": "markdown",
   "id": "c4e76862",
   "metadata": {},
   "source": [
    "---"
   ]
  },
  {
   "cell_type": "markdown",
   "id": "a2270844",
   "metadata": {},
   "source": [
    "# Commenting in Python"
   ]
  },
  {
   "cell_type": "markdown",
   "id": "994cbd6f",
   "metadata": {},
   "source": [
    "You can insert your comments in Python which will not be interpreted by it at all.\n",
    "Why?\n",
    "- Document what you are doing\n",
    "- Debug\n",
    "- Reminders: use `# TODO add another function here`\n",
    "- Etc."
   ]
  },
  {
   "cell_type": "code",
   "execution_count": 2,
   "id": "10187ca8",
   "metadata": {},
   "outputs": [
    {
     "name": "stdout",
     "output_type": "stream",
     "text": [
      " This is a longer\n",
      "multiline\n",
      "comment\n"
     ]
    }
   ],
   "source": [
    "# This is a single line comment\n",
    "\n",
    "\"\"\" This is a longer\n",
    "multiline\n",
    "comment\"\"\"\n",
    "\n",
    "# Or maybe\n",
    "# This multiline\n",
    "# comment\n",
    "print(\"\"\" This is a longer\n",
    "multiline\n",
    "comment\"\"\")"
   ]
  },
  {
   "cell_type": "markdown",
   "id": "18f80367",
   "metadata": {},
   "source": [
    "---"
   ]
  },
  {
   "cell_type": "markdown",
   "id": "00874cca",
   "metadata": {},
   "source": [
    "# Simple Operators"
   ]
  },
  {
   "cell_type": "markdown",
   "id": "1cca88ea",
   "metadata": {},
   "source": [
    "We have seven simple operators in Python:\n",
    "\n",
    "| # | Operator | Semantics | Example |\n",
    "| --- | --- | --- | --- |\n",
    "| 1 | `**`  | Exponent | `2 ** 3 = 8` |\n",
    "| 2 | `%` \t| Modulus/Remainder | \t`22 % 8 = 6` |\n",
    "| 3 | `//` | Integer division | \t`22 // 8 = 2` |\n",
    "| 4 | `/` \t| Division | \t`22 / 8 = 2.75` |\n",
    "| 5 | `*` \t| Multiplication | \t`3 * 3 = 9` |\n",
    "| 6 | `-` \t| Subtraction | \t`5 - 2 = 3` |\n",
    "| 7 | `+`  | \tAddition | \t`2 + 2 = 4` |\n",
    "| - | `=` | Assignment | - |\n"
   ]
  },
  {
   "cell_type": "markdown",
   "id": "74477789",
   "metadata": {},
   "source": [
    "**What do these `#` numbers mean though?** Let's try to evaluate the following **expressions**:"
   ]
  },
  {
   "cell_type": "code",
   "execution_count": 1,
   "id": "efcda735",
   "metadata": {},
   "outputs": [
    {
     "data": {
      "text/plain": [
       "9.0"
      ]
     },
     "execution_count": 1,
     "metadata": {},
     "output_type": "execute_result"
    }
   ],
   "source": [
    "6 + 6 / 2"
   ]
  },
  {
   "cell_type": "code",
   "execution_count": 6,
   "id": "5efd64de",
   "metadata": {},
   "outputs": [
    {
     "data": {
      "text/plain": [
       "8.0"
      ]
     },
     "execution_count": 6,
     "metadata": {},
     "output_type": "execute_result"
    }
   ],
   "source": [
    "(2 * 3 * 2) / 2 + 2"
   ]
  },
  {
   "cell_type": "code",
   "execution_count": 8,
   "id": "a199ced5",
   "metadata": {},
   "outputs": [
    {
     "data": {
      "text/plain": [
       "12"
      ]
     },
     "execution_count": 8,
     "metadata": {},
     "output_type": "execute_result"
    }
   ],
   "source": [
    "2 * 3 + 2 * 3"
   ]
  },
  {
   "cell_type": "code",
   "execution_count": 9,
   "id": "d287cb3a",
   "metadata": {},
   "outputs": [
    {
     "data": {
      "text/plain": [
       "18"
      ]
     },
     "execution_count": 9,
     "metadata": {},
     "output_type": "execute_result"
    }
   ],
   "source": [
    "2 * 3 + 2 ** 2 * 3"
   ]
  },
  {
   "cell_type": "code",
   "execution_count": 10,
   "id": "f852826b",
   "metadata": {
    "scrolled": true
   },
   "outputs": [
    {
     "data": {
      "text/plain": [
       "70"
      ]
     },
     "execution_count": 10,
     "metadata": {},
     "output_type": "execute_result"
    }
   ],
   "source": [
    "2 * 3 + 2 ** (2 * 3)"
   ]
  },
  {
   "cell_type": "markdown",
   "id": "8b3f516f",
   "metadata": {},
   "source": [
    "**Operators mean different things with different data types, or might not work!!**"
   ]
  },
  {
   "cell_type": "code",
   "execution_count": 11,
   "id": "ea29c45d",
   "metadata": {},
   "outputs": [
    {
     "data": {
      "text/plain": [
       "'Hello python!Hello python!Hello python!'"
      ]
     },
     "execution_count": 11,
     "metadata": {},
     "output_type": "execute_result"
    }
   ],
   "source": [
    "\"Hello python!\" * 3"
   ]
  },
  {
   "cell_type": "markdown",
   "id": "0ef6701c",
   "metadata": {},
   "source": [
    "So it's *absolutely important* to know your data types. Thus, let's learn more about `variables` in Python!"
   ]
  },
  {
   "cell_type": "markdown",
   "id": "55308f06",
   "metadata": {},
   "source": [
    "Assignment can be augmented thus:\n",
    "\n",
    "|Operator|Equivalent|\n",
    "|---|---|\n",
    "|var += 1 | var = var + 1|\n",
    "|var -= 1 | var = var - 1|\n",
    "|var *= 1 | var = var * 1|\n",
    "|var /= 1 | var = var / 1|\n",
    "|var %= 1 | var = var % 1|"
   ]
  },
  {
   "cell_type": "code",
   "execution_count": 12,
   "id": "590e8d1a",
   "metadata": {},
   "outputs": [
    {
     "data": {
      "text/plain": [
       "1"
      ]
     },
     "execution_count": 12,
     "metadata": {},
     "output_type": "execute_result"
    }
   ],
   "source": [
    "var = 0\n",
    "var = var +++++ 1\n",
    "\n",
    "var"
   ]
  },
  {
   "cell_type": "code",
   "execution_count": 13,
   "id": "73e9628f",
   "metadata": {},
   "outputs": [
    {
     "data": {
      "text/plain": [
       "5"
      ]
     },
     "execution_count": 13,
     "metadata": {},
     "output_type": "execute_result"
    }
   ],
   "source": [
    "var = 0\n",
    "var += 1\n",
    "var += 1\n",
    "var += 1\n",
    "var += 1\n",
    "var += 1\n",
    "\n",
    "var"
   ]
  },
  {
   "cell_type": "code",
   "execution_count": 14,
   "id": "6e116d2f",
   "metadata": {},
   "outputs": [
    {
     "data": {
      "text/plain": [
       "0"
      ]
     },
     "execution_count": 14,
     "metadata": {},
     "output_type": "execute_result"
    }
   ],
   "source": [
    "4 % 2"
   ]
  },
  {
   "cell_type": "code",
   "execution_count": 15,
   "id": "afad385f",
   "metadata": {},
   "outputs": [
    {
     "data": {
      "text/plain": [
       "1"
      ]
     },
     "execution_count": 15,
     "metadata": {},
     "output_type": "execute_result"
    }
   ],
   "source": [
    "5 % 2"
   ]
  },
  {
   "cell_type": "code",
   "execution_count": 16,
   "id": "d37f3456",
   "metadata": {},
   "outputs": [
    {
     "data": {
      "text/plain": [
       "1010"
      ]
     },
     "execution_count": 16,
     "metadata": {},
     "output_type": "execute_result"
    }
   ],
   "source": [
    "var = 10\n",
    "var = var + 1000\n",
    "var"
   ]
  },
  {
   "cell_type": "code",
   "execution_count": 20,
   "id": "f65b900c",
   "metadata": {},
   "outputs": [
    {
     "data": {
      "text/plain": [
       "336"
      ]
     },
     "execution_count": 20,
     "metadata": {},
     "output_type": "execute_result"
    }
   ],
   "source": [
    "1010 // 3"
   ]
  },
  {
   "cell_type": "code",
   "execution_count": 19,
   "id": "4e6c6391",
   "metadata": {},
   "outputs": [
    {
     "data": {
      "text/plain": [
       "2"
      ]
     },
     "execution_count": 19,
     "metadata": {},
     "output_type": "execute_result"
    }
   ],
   "source": [
    "var = var % 3\n",
    "var"
   ]
  },
  {
   "cell_type": "code",
   "execution_count": 17,
   "id": "140960f1",
   "metadata": {},
   "outputs": [
    {
     "data": {
      "text/plain": [
       "2"
      ]
     },
     "execution_count": 17,
     "metadata": {},
     "output_type": "execute_result"
    }
   ],
   "source": [
    "var %= 3\n",
    "var"
   ]
  },
  {
   "cell_type": "markdown",
   "id": "1e6aa5dc",
   "metadata": {},
   "source": [
    "---"
   ]
  },
  {
   "cell_type": "markdown",
   "id": "579246e1",
   "metadata": {},
   "source": [
    "# Variables"
   ]
  },
  {
   "cell_type": "markdown",
   "id": "35d8eb76",
   "metadata": {},
   "source": [
    "Variables are significant quantities that you want to save and use **later** in your code. Typical example would be **calculations** you make (like the mean).\n",
    "\n",
    "Every variable in python must have **a name**. Names must be:\n",
    "- Starting with a letter, or an underscore `_`! We cannot start a variable with a number like `1_best_var_ever`\n",
    "- Containing only letters, numbers and `_`, so **one word**"
   ]
  },
  {
   "cell_type": "markdown",
   "id": "dfcb3d19",
   "metadata": {},
   "source": [
    "→ **Additional encouraged rules**:\n",
    "- Never name a variable with a reserved word (coloured usually)! like `print` or `def`\n",
    "    - Sometimes you will get a syntax error, sometimes you'd have very bad results!\n",
    "- Always use meaningful names, even if long\n",
    "- Variable names are case sensetive! So better use lower case always as a general rule, however:\n",
    "- Follow the naming and coding conventions of Python (found in `PEP 8` guide) from the start to get used to it. See them in [PEP 8 -- Style Guide for Python Code](https://www.python.org/dev/peps/pep-0008/)."
   ]
  },
  {
   "cell_type": "code",
   "execution_count": 21,
   "id": "68c3ace4",
   "metadata": {},
   "outputs": [
    {
     "name": "stdout",
     "output_type": "stream",
     "text": [
      "4\n"
     ]
    }
   ],
   "source": [
    "var = 4\n",
    "print(var)"
   ]
  },
  {
   "cell_type": "code",
   "execution_count": 22,
   "id": "5b612b0c",
   "metadata": {
    "scrolled": true
   },
   "outputs": [
    {
     "ename": "SyntaxError",
     "evalue": "invalid syntax (2865143489.py, line 1)",
     "output_type": "error",
     "traceback": [
      "\u001b[1;36m  Input \u001b[1;32mIn [22]\u001b[1;36m\u001b[0m\n\u001b[1;33m    my beautiful var = 5\u001b[0m\n\u001b[1;37m       ^\u001b[0m\n\u001b[1;31mSyntaxError\u001b[0m\u001b[1;31m:\u001b[0m invalid syntax\n"
     ]
    }
   ],
   "source": [
    "my beautiful var = 5"
   ]
  },
  {
   "cell_type": "code",
   "execution_count": 23,
   "id": "b7fe3f18",
   "metadata": {},
   "outputs": [
    {
     "name": "stdout",
     "output_type": "stream",
     "text": [
      "5\n"
     ]
    }
   ],
   "source": [
    "my_beautiful_var = 5\n",
    "print(my_beautiful_var)"
   ]
  },
  {
   "cell_type": "code",
   "execution_count": 24,
   "id": "2b820380",
   "metadata": {},
   "outputs": [
    {
     "name": "stdout",
     "output_type": "stream",
     "text": [
      "4\n"
     ]
    }
   ],
   "source": [
    "_var = 4\n",
    "print(_var)"
   ]
  },
  {
   "cell_type": "code",
   "execution_count": 25,
   "id": "64ca659c",
   "metadata": {
    "scrolled": true
   },
   "outputs": [
    {
     "ename": "SyntaxError",
     "evalue": "invalid decimal literal (1838738779.py, line 1)",
     "output_type": "error",
     "traceback": [
      "\u001b[1;36m  Input \u001b[1;32mIn [25]\u001b[1;36m\u001b[0m\n\u001b[1;33m    1st_var = 4\u001b[0m\n\u001b[1;37m    ^\u001b[0m\n\u001b[1;31mSyntaxError\u001b[0m\u001b[1;31m:\u001b[0m invalid decimal literal\n"
     ]
    }
   ],
   "source": [
    "1st_var = 4"
   ]
  },
  {
   "cell_type": "code",
   "execution_count": 26,
   "id": "73d2e4c7",
   "metadata": {},
   "outputs": [],
   "source": [
    "_var = 4"
   ]
  },
  {
   "cell_type": "code",
   "execution_count": 28,
   "id": "15aac725",
   "metadata": {},
   "outputs": [
    {
     "ename": "SyntaxError",
     "evalue": "invalid syntax (823646212.py, line 1)",
     "output_type": "error",
     "traceback": [
      "\u001b[1;36m  Input \u001b[1;32mIn [28]\u001b[1;36m\u001b[0m\n\u001b[1;33m    def = 4\u001b[0m\n\u001b[1;37m        ^\u001b[0m\n\u001b[1;31mSyntaxError\u001b[0m\u001b[1;31m:\u001b[0m invalid syntax\n"
     ]
    }
   ],
   "source": [
    "def = 4"
   ]
  },
  {
   "cell_type": "markdown",
   "id": "12f457e6",
   "metadata": {},
   "source": [
    "## Types of Simple Variables in Python"
   ]
  },
  {
   "cell_type": "markdown",
   "id": "e25e3cda",
   "metadata": {},
   "source": [
    "We don't have to specify the types as we see above! However, we need to understand them and identify them.\n",
    "\n",
    "We have booleans (`bool`), integers (`int`), floats (`float`) and strings (`str`). We can test for their types using `type(.)`."
   ]
  },
  {
   "cell_type": "code",
   "execution_count": 7,
   "id": "b4d12f6c",
   "metadata": {},
   "outputs": [
    {
     "data": {
      "text/plain": [
       "bool"
      ]
     },
     "execution_count": 7,
     "metadata": {},
     "output_type": "execute_result"
    }
   ],
   "source": [
    "var = True\n",
    "type(var)"
   ]
  },
  {
   "cell_type": "code",
   "execution_count": 30,
   "id": "f03dd79a",
   "metadata": {},
   "outputs": [
    {
     "data": {
      "text/plain": [
       "bool"
      ]
     },
     "execution_count": 30,
     "metadata": {},
     "output_type": "execute_result"
    }
   ],
   "source": [
    "var = False\n",
    "type(var)"
   ]
  },
  {
   "cell_type": "code",
   "execution_count": 31,
   "id": "43d84c76",
   "metadata": {},
   "outputs": [
    {
     "data": {
      "text/plain": [
       "int"
      ]
     },
     "execution_count": 31,
     "metadata": {},
     "output_type": "execute_result"
    }
   ],
   "source": [
    "var = 5\n",
    "type(var)"
   ]
  },
  {
   "cell_type": "code",
   "execution_count": 32,
   "id": "4a1662b1",
   "metadata": {},
   "outputs": [
    {
     "data": {
      "text/plain": [
       "float"
      ]
     },
     "execution_count": 32,
     "metadata": {},
     "output_type": "execute_result"
    }
   ],
   "source": [
    "var = -5.5\n",
    "type(var)"
   ]
  },
  {
   "cell_type": "code",
   "execution_count": 33,
   "id": "581613e8",
   "metadata": {},
   "outputs": [
    {
     "data": {
      "text/plain": [
       "str"
      ]
     },
     "execution_count": 33,
     "metadata": {},
     "output_type": "execute_result"
    }
   ],
   "source": [
    "var = \"hello\"\n",
    "type(var)"
   ]
  },
  {
   "cell_type": "code",
   "execution_count": 34,
   "id": "b8415423",
   "metadata": {},
   "outputs": [
    {
     "data": {
      "text/plain": [
       "str"
      ]
     },
     "execution_count": 34,
     "metadata": {},
     "output_type": "execute_result"
    }
   ],
   "source": [
    "var = \"4\"\n",
    "type(var)"
   ]
  },
  {
   "cell_type": "code",
   "execution_count": 35,
   "id": "a8a007e1",
   "metadata": {},
   "outputs": [
    {
     "data": {
      "text/plain": [
       "'444'"
      ]
     },
     "execution_count": 35,
     "metadata": {},
     "output_type": "execute_result"
    }
   ],
   "source": [
    "var * 3"
   ]
  },
  {
   "cell_type": "code",
   "execution_count": 36,
   "id": "2dbe1031",
   "metadata": {
    "scrolled": true
   },
   "outputs": [
    {
     "data": {
      "text/plain": [
       "str"
      ]
     },
     "execution_count": 36,
     "metadata": {},
     "output_type": "execute_result"
    }
   ],
   "source": [
    "var = '4'\n",
    "type(var)"
   ]
  },
  {
   "cell_type": "markdown",
   "id": "a3a5a9f5",
   "metadata": {},
   "source": [
    "Double or single quotes is your choice, but Python prefers `'` over `\"`.\n",
    "\n",
    "Let's try to define a var with the value: `I'm happy`:"
   ]
  },
  {
   "cell_type": "code",
   "execution_count": 37,
   "id": "fcd22753",
   "metadata": {
    "scrolled": true
   },
   "outputs": [
    {
     "ename": "SyntaxError",
     "evalue": "unterminated string literal (detected at line 1) (881986287.py, line 1)",
     "output_type": "error",
     "traceback": [
      "\u001b[1;36m  Input \u001b[1;32mIn [37]\u001b[1;36m\u001b[0m\n\u001b[1;33m    var = 'I'm happy'\u001b[0m\n\u001b[1;37m                    ^\u001b[0m\n\u001b[1;31mSyntaxError\u001b[0m\u001b[1;31m:\u001b[0m unterminated string literal (detected at line 1)\n"
     ]
    }
   ],
   "source": [
    "var = 'I'm happy'\n",
    "var"
   ]
  },
  {
   "cell_type": "code",
   "execution_count": 38,
   "id": "56dcad4b",
   "metadata": {},
   "outputs": [
    {
     "data": {
      "text/plain": [
       "\"I'm happy\""
      ]
     },
     "execution_count": 38,
     "metadata": {},
     "output_type": "execute_result"
    }
   ],
   "source": [
    "var = \"I'm happy\"\n",
    "var"
   ]
  },
  {
   "cell_type": "code",
   "execution_count": 39,
   "id": "e17d0ea5",
   "metadata": {},
   "outputs": [
    {
     "data": {
      "text/plain": [
       "\"I like 'AMD'\""
      ]
     },
     "execution_count": 39,
     "metadata": {},
     "output_type": "execute_result"
    }
   ],
   "source": [
    "var = \"I like 'AMD'\"\n",
    "var"
   ]
  },
  {
   "cell_type": "code",
   "execution_count": 40,
   "id": "fa258543",
   "metadata": {},
   "outputs": [
    {
     "data": {
      "text/plain": [
       "\"I'm happy\""
      ]
     },
     "execution_count": 40,
     "metadata": {},
     "output_type": "execute_result"
    }
   ],
   "source": [
    "var = 'I\\'m happy'\n",
    "var"
   ]
  },
  {
   "cell_type": "markdown",
   "id": "1ed98c84",
   "metadata": {},
   "source": [
    "### Knowing your variables types makes a lot of difference"
   ]
  },
  {
   "cell_type": "markdown",
   "id": "a457e8fd",
   "metadata": {},
   "source": [
    "Especially if you are reading data from text files or CSV files!"
   ]
  },
  {
   "cell_type": "code",
   "execution_count": 41,
   "id": "27c6ee1c",
   "metadata": {},
   "outputs": [
    {
     "data": {
      "text/plain": [
       "10"
      ]
     },
     "execution_count": 41,
     "metadata": {},
     "output_type": "execute_result"
    }
   ],
   "source": [
    "4 + 6"
   ]
  },
  {
   "cell_type": "code",
   "execution_count": 42,
   "id": "e8dd7400",
   "metadata": {},
   "outputs": [
    {
     "data": {
      "text/plain": [
       "'46'"
      ]
     },
     "execution_count": 42,
     "metadata": {},
     "output_type": "execute_result"
    }
   ],
   "source": [
    "\"4\" + \"6\""
   ]
  },
  {
   "cell_type": "code",
   "execution_count": 43,
   "id": "e8a2a342",
   "metadata": {},
   "outputs": [
    {
     "data": {
      "text/plain": [
       "15"
      ]
     },
     "execution_count": 43,
     "metadata": {},
     "output_type": "execute_result"
    }
   ],
   "source": [
    "5 * 3"
   ]
  },
  {
   "cell_type": "code",
   "execution_count": 44,
   "id": "911f22b9",
   "metadata": {},
   "outputs": [
    {
     "data": {
      "text/plain": [
       "'555'"
      ]
     },
     "execution_count": 44,
     "metadata": {},
     "output_type": "execute_result"
    }
   ],
   "source": [
    "\"5\" * 3"
   ]
  },
  {
   "cell_type": "code",
   "execution_count": 45,
   "id": "e6cc5b94",
   "metadata": {},
   "outputs": [
    {
     "data": {
      "text/plain": [
       "'33333'"
      ]
     },
     "execution_count": 45,
     "metadata": {},
     "output_type": "execute_result"
    }
   ],
   "source": [
    "5 * \"3\""
   ]
  },
  {
   "cell_type": "code",
   "execution_count": 46,
   "id": "756b7948",
   "metadata": {},
   "outputs": [
    {
     "data": {
      "text/plain": [
       "8"
      ]
     },
     "execution_count": 46,
     "metadata": {},
     "output_type": "execute_result"
    }
   ],
   "source": [
    "2 ** 3"
   ]
  },
  {
   "cell_type": "code",
   "execution_count": 47,
   "id": "25fe1d11",
   "metadata": {},
   "outputs": [
    {
     "ename": "TypeError",
     "evalue": "unsupported operand type(s) for ** or pow(): 'int' and 'str'",
     "output_type": "error",
     "traceback": [
      "\u001b[1;31m---------------------------------------------------------------------------\u001b[0m",
      "\u001b[1;31mTypeError\u001b[0m                                 Traceback (most recent call last)",
      "Input \u001b[1;32mIn [47]\u001b[0m, in \u001b[0;36m<cell line: 1>\u001b[1;34m()\u001b[0m\n\u001b[1;32m----> 1\u001b[0m \u001b[38;5;241;43m2\u001b[39;49m\u001b[43m \u001b[49m\u001b[38;5;241;43m*\u001b[39;49m\u001b[38;5;241;43m*\u001b[39;49m\u001b[43m \u001b[49m\u001b[38;5;124;43m\"\u001b[39;49m\u001b[38;5;124;43m3\u001b[39;49m\u001b[38;5;124;43m\"\u001b[39;49m\n",
      "\u001b[1;31mTypeError\u001b[0m: unsupported operand type(s) for ** or pow(): 'int' and 'str'"
     ]
    }
   ],
   "source": [
    "2 ** \"3\""
   ]
  },
  {
   "cell_type": "markdown",
   "id": "fe153280",
   "metadata": {},
   "source": [
    "Note the difference in how the output is formulated, which helps you debug and develop your code:"
   ]
  },
  {
   "cell_type": "code",
   "execution_count": 48,
   "id": "ba757d86",
   "metadata": {},
   "outputs": [
    {
     "data": {
      "text/plain": [
       "int"
      ]
     },
     "execution_count": 48,
     "metadata": {},
     "output_type": "execute_result"
    }
   ],
   "source": [
    "type(2)"
   ]
  },
  {
   "cell_type": "code",
   "execution_count": 49,
   "id": "61810f5a",
   "metadata": {},
   "outputs": [
    {
     "data": {
      "text/plain": [
       "str"
      ]
     },
     "execution_count": 49,
     "metadata": {},
     "output_type": "execute_result"
    }
   ],
   "source": [
    "type(\"2\")"
   ]
  },
  {
   "cell_type": "code",
   "execution_count": 50,
   "id": "3b45eccd",
   "metadata": {},
   "outputs": [
    {
     "data": {
      "text/plain": [
       "str"
      ]
     },
     "execution_count": 50,
     "metadata": {},
     "output_type": "execute_result"
    }
   ],
   "source": [
    "type('2')"
   ]
  },
  {
   "cell_type": "code",
   "execution_count": 51,
   "id": "fd11fb40",
   "metadata": {},
   "outputs": [
    {
     "data": {
      "text/plain": [
       "float"
      ]
     },
     "execution_count": 51,
     "metadata": {},
     "output_type": "execute_result"
    }
   ],
   "source": [
    "type(2.0)"
   ]
  },
  {
   "cell_type": "markdown",
   "id": "488e8a4f",
   "metadata": {},
   "source": [
    "### Moving between variable types"
   ]
  },
  {
   "cell_type": "markdown",
   "id": "55cb732b",
   "metadata": {},
   "source": [
    "Sometimes we want to convert a variable from type to type.\n",
    "When you want to convert a variable from string to integer, you can use the data type keyword as function:"
   ]
  },
  {
   "cell_type": "code",
   "execution_count": 58,
   "id": "3b3c280e",
   "metadata": {},
   "outputs": [
    {
     "data": {
      "text/plain": [
       "5.0"
      ]
     },
     "execution_count": 58,
     "metadata": {},
     "output_type": "execute_result"
    }
   ],
   "source": [
    "var = 5.0\n",
    "var"
   ]
  },
  {
   "cell_type": "code",
   "execution_count": 53,
   "id": "31fc535b",
   "metadata": {},
   "outputs": [
    {
     "data": {
      "text/plain": [
       "'5.0'"
      ]
     },
     "execution_count": 53,
     "metadata": {},
     "output_type": "execute_result"
    }
   ],
   "source": [
    "str(var)"
   ]
  },
  {
   "cell_type": "code",
   "execution_count": 55,
   "id": "d95e834d",
   "metadata": {},
   "outputs": [
    {
     "data": {
      "text/plain": [
       "5"
      ]
     },
     "execution_count": 55,
     "metadata": {},
     "output_type": "execute_result"
    }
   ],
   "source": [
    "var = int(var)\n",
    "var"
   ]
  },
  {
   "cell_type": "code",
   "execution_count": 57,
   "id": "383957ad",
   "metadata": {},
   "outputs": [
    {
     "data": {
      "text/plain": [
       "'5'"
      ]
     },
     "execution_count": 57,
     "metadata": {},
     "output_type": "execute_result"
    }
   ],
   "source": [
    "var = str(var)\n",
    "var"
   ]
  },
  {
   "cell_type": "code",
   "execution_count": 59,
   "id": "f1d898b1",
   "metadata": {},
   "outputs": [
    {
     "data": {
      "text/plain": [
       "'5'"
      ]
     },
     "execution_count": 59,
     "metadata": {},
     "output_type": "execute_result"
    }
   ],
   "source": [
    "str(int(var))"
   ]
  },
  {
   "cell_type": "code",
   "execution_count": 60,
   "id": "a8732e90",
   "metadata": {},
   "outputs": [
    {
     "data": {
      "text/plain": [
       "6.0"
      ]
     },
     "execution_count": 60,
     "metadata": {},
     "output_type": "execute_result"
    }
   ],
   "source": [
    "var = \"6\"\n",
    "float(var)"
   ]
  },
  {
   "cell_type": "code",
   "execution_count": 61,
   "id": "8bd49f42",
   "metadata": {
    "scrolled": true
   },
   "outputs": [
    {
     "data": {
      "text/plain": [
       "-6"
      ]
     },
     "execution_count": 61,
     "metadata": {},
     "output_type": "execute_result"
    }
   ],
   "source": [
    "var = \"-6\"\n",
    "int(var)"
   ]
  },
  {
   "cell_type": "code",
   "execution_count": 62,
   "id": "6a2ec330",
   "metadata": {},
   "outputs": [
    {
     "data": {
      "text/plain": [
       "-6.0"
      ]
     },
     "execution_count": 62,
     "metadata": {},
     "output_type": "execute_result"
    }
   ],
   "source": [
    "float(var)"
   ]
  },
  {
   "cell_type": "code",
   "execution_count": 69,
   "id": "c9a739d6",
   "metadata": {},
   "outputs": [
    {
     "data": {
      "text/plain": [
       "-6.787232"
      ]
     },
     "execution_count": 69,
     "metadata": {},
     "output_type": "execute_result"
    }
   ],
   "source": [
    "var = \"-6.787232\"\n",
    "float(var)"
   ]
  },
  {
   "cell_type": "code",
   "execution_count": 68,
   "id": "9f7a69b6",
   "metadata": {},
   "outputs": [
    {
     "data": {
      "text/plain": [
       "'-6.787232'"
      ]
     },
     "execution_count": 68,
     "metadata": {},
     "output_type": "execute_result"
    }
   ],
   "source": [
    "var"
   ]
  },
  {
   "cell_type": "code",
   "execution_count": 65,
   "id": "152b45f5",
   "metadata": {
    "scrolled": true
   },
   "outputs": [
    {
     "ename": "ValueError",
     "evalue": "invalid literal for int() with base 10: '-6.787232'",
     "output_type": "error",
     "traceback": [
      "\u001b[1;31m---------------------------------------------------------------------------\u001b[0m",
      "\u001b[1;31mValueError\u001b[0m                                Traceback (most recent call last)",
      "Input \u001b[1;32mIn [65]\u001b[0m, in \u001b[0;36m<cell line: 1>\u001b[1;34m()\u001b[0m\n\u001b[1;32m----> 1\u001b[0m \u001b[38;5;28;43mint\u001b[39;49m\u001b[43m(\u001b[49m\u001b[43mvar\u001b[49m\u001b[43m)\u001b[49m\n",
      "\u001b[1;31mValueError\u001b[0m: invalid literal for int() with base 10: '-6.787232'"
     ]
    }
   ],
   "source": [
    "int(var)"
   ]
  },
  {
   "cell_type": "code",
   "execution_count": 66,
   "id": "42b5603d",
   "metadata": {},
   "outputs": [
    {
     "data": {
      "text/plain": [
       "-6"
      ]
     },
     "execution_count": 66,
     "metadata": {},
     "output_type": "execute_result"
    }
   ],
   "source": [
    "int(float(var))"
   ]
  },
  {
   "cell_type": "code",
   "execution_count": 70,
   "id": "e156a7ba",
   "metadata": {},
   "outputs": [
    {
     "ename": "ValueError",
     "evalue": "invalid literal for int() with base 10: '6.x'",
     "output_type": "error",
     "traceback": [
      "\u001b[1;31m---------------------------------------------------------------------------\u001b[0m",
      "\u001b[1;31mValueError\u001b[0m                                Traceback (most recent call last)",
      "Input \u001b[1;32mIn [70]\u001b[0m, in \u001b[0;36m<cell line: 2>\u001b[1;34m()\u001b[0m\n\u001b[0;32m      1\u001b[0m var \u001b[38;5;241m=\u001b[39m \u001b[38;5;124m\"\u001b[39m\u001b[38;5;124m6.x\u001b[39m\u001b[38;5;124m\"\u001b[39m\n\u001b[1;32m----> 2\u001b[0m \u001b[38;5;28;43mint\u001b[39;49m\u001b[43m(\u001b[49m\u001b[43mvar\u001b[49m\u001b[43m)\u001b[49m\n",
      "\u001b[1;31mValueError\u001b[0m: invalid literal for int() with base 10: '6.x'"
     ]
    }
   ],
   "source": [
    "var = \"6.x\"\n",
    "int(var)"
   ]
  },
  {
   "cell_type": "code",
   "execution_count": 71,
   "id": "2f9bfeb3",
   "metadata": {},
   "outputs": [
    {
     "ename": "ValueError",
     "evalue": "could not convert string to float: '6.x'",
     "output_type": "error",
     "traceback": [
      "\u001b[1;31m---------------------------------------------------------------------------\u001b[0m",
      "\u001b[1;31mValueError\u001b[0m                                Traceback (most recent call last)",
      "Input \u001b[1;32mIn [71]\u001b[0m, in \u001b[0;36m<cell line: 1>\u001b[1;34m()\u001b[0m\n\u001b[1;32m----> 1\u001b[0m \u001b[38;5;28mint\u001b[39m(\u001b[38;5;28;43mfloat\u001b[39;49m\u001b[43m(\u001b[49m\u001b[43mvar\u001b[49m\u001b[43m)\u001b[49m)\n",
      "\u001b[1;31mValueError\u001b[0m: could not convert string to float: '6.x'"
     ]
    }
   ],
   "source": [
    "int(float(var))"
   ]
  },
  {
   "cell_type": "code",
   "execution_count": 72,
   "id": "469e144c",
   "metadata": {},
   "outputs": [
    {
     "data": {
      "text/plain": [
       "bool"
      ]
     },
     "execution_count": 72,
     "metadata": {},
     "output_type": "execute_result"
    }
   ],
   "source": [
    "var = 5 > 4\n",
    "type(var)"
   ]
  },
  {
   "cell_type": "code",
   "execution_count": 73,
   "id": "cb5817ac",
   "metadata": {},
   "outputs": [
    {
     "data": {
      "text/plain": [
       "True"
      ]
     },
     "execution_count": 73,
     "metadata": {},
     "output_type": "execute_result"
    }
   ],
   "source": [
    "var"
   ]
  },
  {
   "cell_type": "code",
   "execution_count": 74,
   "id": "557abe2e",
   "metadata": {},
   "outputs": [
    {
     "data": {
      "text/plain": [
       "1"
      ]
     },
     "execution_count": 74,
     "metadata": {},
     "output_type": "execute_result"
    }
   ],
   "source": [
    "int(var)"
   ]
  },
  {
   "cell_type": "code",
   "execution_count": 75,
   "id": "04ced181",
   "metadata": {},
   "outputs": [
    {
     "data": {
      "text/plain": [
       "0"
      ]
     },
     "execution_count": 75,
     "metadata": {},
     "output_type": "execute_result"
    }
   ],
   "source": [
    "int(False)"
   ]
  },
  {
   "cell_type": "code",
   "execution_count": 76,
   "id": "2fa67ecd",
   "metadata": {},
   "outputs": [
    {
     "name": "stdout",
     "output_type": "stream",
     "text": [
      "5\n"
     ]
    },
    {
     "data": {
      "text/plain": [
       "int"
      ]
     },
     "execution_count": 76,
     "metadata": {},
     "output_type": "execute_result"
    }
   ],
   "source": [
    "var = True + 4\n",
    "print(var)\n",
    "type(var)"
   ]
  },
  {
   "cell_type": "code",
   "execution_count": 77,
   "id": "737e1fce",
   "metadata": {},
   "outputs": [
    {
     "data": {
      "text/plain": [
       "False"
      ]
     },
     "execution_count": 77,
     "metadata": {},
     "output_type": "execute_result"
    }
   ],
   "source": [
    "var = 0\n",
    "bool(0)"
   ]
  },
  {
   "cell_type": "code",
   "execution_count": 78,
   "id": "7a1c94e2",
   "metadata": {},
   "outputs": [
    {
     "data": {
      "text/plain": [
       "True"
      ]
     },
     "execution_count": 78,
     "metadata": {},
     "output_type": "execute_result"
    }
   ],
   "source": [
    "var = 1\n",
    "bool(1)"
   ]
  },
  {
   "cell_type": "code",
   "execution_count": 79,
   "id": "a8733203",
   "metadata": {},
   "outputs": [
    {
     "data": {
      "text/plain": [
       "True"
      ]
     },
     "execution_count": 79,
     "metadata": {},
     "output_type": "execute_result"
    }
   ],
   "source": [
    "var = 3\n",
    "bool(var)"
   ]
  },
  {
   "cell_type": "code",
   "execution_count": 80,
   "id": "03854d83",
   "metadata": {},
   "outputs": [
    {
     "data": {
      "text/plain": [
       "True"
      ]
     },
     "execution_count": 80,
     "metadata": {},
     "output_type": "execute_result"
    }
   ],
   "source": [
    "var = 3.4\n",
    "bool(var)"
   ]
  },
  {
   "cell_type": "code",
   "execution_count": 81,
   "id": "db89bb23",
   "metadata": {},
   "outputs": [
    {
     "data": {
      "text/plain": [
       "False"
      ]
     },
     "execution_count": 81,
     "metadata": {},
     "output_type": "execute_result"
    }
   ],
   "source": [
    "var = 0\n",
    "bool(0)"
   ]
  },
  {
   "cell_type": "code",
   "execution_count": 82,
   "id": "109eadc4",
   "metadata": {},
   "outputs": [
    {
     "data": {
      "text/plain": [
       "True"
      ]
     },
     "execution_count": 82,
     "metadata": {},
     "output_type": "execute_result"
    }
   ],
   "source": [
    "bool(-1)"
   ]
  },
  {
   "cell_type": "code",
   "execution_count": 83,
   "id": "429f6891",
   "metadata": {},
   "outputs": [
    {
     "data": {
      "text/plain": [
       "NoneType"
      ]
     },
     "execution_count": 83,
     "metadata": {},
     "output_type": "execute_result"
    }
   ],
   "source": [
    "var = None\n",
    "type(var)"
   ]
  },
  {
   "cell_type": "code",
   "execution_count": 84,
   "id": "2647f1bc",
   "metadata": {},
   "outputs": [
    {
     "data": {
      "text/plain": [
       "False"
      ]
     },
     "execution_count": 84,
     "metadata": {},
     "output_type": "execute_result"
    }
   ],
   "source": [
    "bool(var)"
   ]
  },
  {
   "cell_type": "markdown",
   "id": "b4054327",
   "metadata": {},
   "source": [
    "**So:**\n",
    "- Anything other than zero evaluates to `True` boolean value in Python\n",
    "- Zeros and `None` evaluate to `False`. `None` **is when our variable is defined, but has no value in it**, i.e. not initialised → very useful check!\n",
    "- Any comparison is a boolean in itself → important to understand"
   ]
  },
  {
   "cell_type": "markdown",
   "id": "da7a9fe3",
   "metadata": {},
   "source": [
    "### String variables are cool"
   ]
  },
  {
   "cell_type": "markdown",
   "id": "5a2dd2cd",
   "metadata": {},
   "source": [
    "String variables in Python have many useful functions and perks.\n",
    "- They can span multiple lines\n",
    "- They can include special characters (indicators of special cases), like:\n",
    "    - `\\n` the new line special character\n",
    "    - `\\t` the tab charachter\n",
    "    - `\\` the escape character if preceds a special case, to deactivate special cases of what follows\n",
    "- They have two useful kinds: raw strings and formatted strings"
   ]
  },
  {
   "cell_type": "code",
   "execution_count": 85,
   "id": "bebd214e",
   "metadata": {},
   "outputs": [
    {
     "name": "stdout",
     "output_type": "stream",
     "text": [
      "Here is my first line,\n",
      "         And my second,\n",
      "and what about a third one?! why not!\n"
     ]
    }
   ],
   "source": [
    "var = \"\"\"Here is my first line,\n",
    "         And my second,\n",
    "and what about a third one?! why not!\"\"\"\n",
    "print(var)"
   ]
  },
  {
   "cell_type": "code",
   "execution_count": 86,
   "id": "05692f08",
   "metadata": {},
   "outputs": [
    {
     "name": "stdout",
     "output_type": "stream",
     "text": [
      "Here is line1,\n",
      "And line 2,\n",
      "And three!\n"
     ]
    }
   ],
   "source": [
    "var = \"Here is line1,\\nAnd line 2,\\nAnd three!\"\n",
    "print(var)"
   ]
  },
  {
   "cell_type": "code",
   "execution_count": 89,
   "id": "ff935a30",
   "metadata": {},
   "outputs": [
    {
     "name": "stdout",
     "output_type": "stream",
     "text": [
      "Name:\\t\tRafi\n",
      "Origin:\t\tEarth\n"
     ]
    }
   ],
   "source": [
    "var = \"\"\"Name:\\\\t\\tRafi\n",
    "Origin:\\t\\tEarth\"\"\"\n",
    "print(var)"
   ]
  },
  {
   "cell_type": "code",
   "execution_count": 90,
   "id": "2ebd2e8b",
   "metadata": {},
   "outputs": [
    {
     "name": "stdout",
     "output_type": "stream",
     "text": [
      "Name:\tRafi\n",
      "Origin:\\tEarth\n"
     ]
    }
   ],
   "source": [
    "var = \"\"\"Name:\\tRafi\n",
    "Origin:\\\\tEarth\"\"\"\n",
    "print(var)"
   ]
  },
  {
   "cell_type": "markdown",
   "id": "2399e696",
   "metadata": {},
   "source": [
    "As you see, we can deactivate the special functionality of `\\` manually. This is sometimes tedious, like when defining filepaths on Windows:"
   ]
  },
  {
   "cell_type": "code",
   "execution_count": 95,
   "id": "6849d68e",
   "metadata": {},
   "outputs": [
    {
     "name": "stdout",
     "output_type": "stream",
     "text": [
      "D:\r",
      "epo\\python_fundamentals_workshop\\hello.txt\n"
     ]
    }
   ],
   "source": [
    "file_path = \"D:\\repo\\python_fundamentals_workshop\\hello.txt\"\n",
    "print(file_path)"
   ]
  },
  {
   "cell_type": "markdown",
   "id": "4088c74b",
   "metadata": {},
   "source": [
    "That's when you use raw strings! Just an `r` before starting the string:"
   ]
  },
  {
   "cell_type": "code",
   "execution_count": 96,
   "id": "ba4e633e",
   "metadata": {},
   "outputs": [
    {
     "name": "stdout",
     "output_type": "stream",
     "text": [
      "D:\\repo\\python_fundamentals_workshop\\hello.txt\n"
     ]
    }
   ],
   "source": [
    "file_path = r\"D:\\repo\\python_fundamentals_workshop\\hello.txt\"\n",
    "print(file_path)"
   ]
  },
  {
   "cell_type": "markdown",
   "id": "f298c32e",
   "metadata": {},
   "source": [
    "Finally, there are a lot of things to apply on string variables. Try to press `.` at the end of a string variable and check them up, or maybe see [this resource](https://www.w3schools.com/python/python_ref_string.asp)."
   ]
  },
  {
   "cell_type": "code",
   "execution_count": 19,
   "id": "c7f71c17",
   "metadata": {},
   "outputs": [
    {
     "data": {
      "text/plain": [
       "'    This Is My String   '"
      ]
     },
     "execution_count": 19,
     "metadata": {},
     "output_type": "execute_result"
    }
   ],
   "source": [
    "var = \"    This Is My String   \"\n",
    "var"
   ]
  },
  {
   "cell_type": "code",
   "execution_count": 20,
   "id": "2badc9f4",
   "metadata": {},
   "outputs": [
    {
     "name": "stdout",
     "output_type": "stream",
     "text": [
      "    this is my string   \n"
     ]
    }
   ],
   "source": [
    "var.lower()"
   ]
  },
  {
   "cell_type": "code",
   "execution_count": 99,
   "id": "9274c390",
   "metadata": {},
   "outputs": [
    {
     "data": {
      "text/plain": [
       "'    This Is My String   '"
      ]
     },
     "execution_count": 99,
     "metadata": {},
     "output_type": "execute_result"
    }
   ],
   "source": [
    "var"
   ]
  },
  {
   "cell_type": "code",
   "execution_count": 100,
   "id": "52fb979f",
   "metadata": {},
   "outputs": [
    {
     "data": {
      "text/plain": [
       "'    THIS IS MY STRING   '"
      ]
     },
     "execution_count": 100,
     "metadata": {},
     "output_type": "execute_result"
    }
   ],
   "source": [
    "var.upper()"
   ]
  },
  {
   "cell_type": "code",
   "execution_count": 101,
   "id": "bb6a8b2a",
   "metadata": {},
   "outputs": [
    {
     "data": {
      "text/plain": [
       "'This Is My String'"
      ]
     },
     "execution_count": 101,
     "metadata": {},
     "output_type": "execute_result"
    }
   ],
   "source": [
    "var.strip()"
   ]
  },
  {
   "cell_type": "code",
   "execution_count": 102,
   "id": "90604854",
   "metadata": {},
   "outputs": [
    {
     "data": {
      "text/plain": [
       "'this is my string'"
      ]
     },
     "execution_count": 102,
     "metadata": {},
     "output_type": "execute_result"
    }
   ],
   "source": [
    "var.strip().lower()"
   ]
  },
  {
   "cell_type": "markdown",
   "id": "d66eb6a0",
   "metadata": {},
   "source": [
    "#### Formatting Strings using other Variables"
   ]
  },
  {
   "cell_type": "markdown",
   "id": "2ca91f10",
   "metadata": {},
   "source": [
    "There are many ways to print variable values within strings. Let's assume we want to print a greeting to someone.\n",
    "We will use `input` to get the user's name from them."
   ]
  },
  {
   "cell_type": "code",
   "execution_count": 2,
   "id": "3b7372eb",
   "metadata": {},
   "outputs": [
    {
     "name": "stdout",
     "output_type": "stream",
     "text": [
      "What is your name?\n",
      "Jacob\n"
     ]
    }
   ],
   "source": [
    "your_name = input(\"What is your name?\\n\")"
   ]
  },
  {
   "cell_type": "code",
   "execution_count": 104,
   "id": "bc9f445e",
   "metadata": {},
   "outputs": [
    {
     "data": {
      "text/plain": [
       "'Jacob'"
      ]
     },
     "execution_count": 104,
     "metadata": {},
     "output_type": "execute_result"
    }
   ],
   "source": [
    "your_name"
   ]
  },
  {
   "cell_type": "code",
   "execution_count": 105,
   "id": "e8e03a81",
   "metadata": {},
   "outputs": [
    {
     "name": "stdout",
     "output_type": "stream",
     "text": [
      "Welcome Jacob to our workshop!\n"
     ]
    }
   ],
   "source": [
    "print(\"Welcome\", your_name, \"to our workshop!\")"
   ]
  },
  {
   "cell_type": "markdown",
   "id": "5a00b419",
   "metadata": {},
   "source": [
    "A neater and more efficient way is to use formatted strings! Like raw strings, you just put an `f` for formatted before the string:"
   ]
  },
  {
   "cell_type": "code",
   "execution_count": 106,
   "id": "fac2fcec",
   "metadata": {},
   "outputs": [
    {
     "name": "stdout",
     "output_type": "stream",
     "text": [
      "Welcome Jacob!\n"
     ]
    }
   ],
   "source": [
    "print(f\"Welcome {your_name}!\")"
   ]
  },
  {
   "cell_type": "code",
   "execution_count": 107,
   "id": "0c394462",
   "metadata": {},
   "outputs": [
    {
     "name": "stdout",
     "output_type": "stream",
     "text": [
      "Welcome JacobJacobJacob!\n"
     ]
    }
   ],
   "source": [
    "print(f\"Welcome {your_name*3}!\")"
   ]
  },
  {
   "cell_type": "markdown",
   "id": "ceae1b7d",
   "metadata": {},
   "source": [
    "---"
   ]
  },
  {
   "cell_type": "markdown",
   "id": "5b395286",
   "metadata": {},
   "source": [
    "# More complex variables"
   ]
  },
  {
   "cell_type": "markdown",
   "id": "5486f52c",
   "metadata": {},
   "source": [
    "What if we want a group of vairable that are linked to each other?\n",
    "\n",
    "Your **address** is one such kind of data: you have a post code, a city, a street and a house number. Till now, we would define it as:"
   ]
  },
  {
   "cell_type": "code",
   "execution_count": 112,
   "id": "d8b47af4",
   "metadata": {},
   "outputs": [],
   "source": [
    "postcode = \"A45 3SA\"\n",
    "street = \"Victoria road\"\n",
    "house_number = 33\n",
    "city = \"Birmingham\""
   ]
  },
  {
   "cell_type": "markdown",
   "id": "3651e70b",
   "metadata": {},
   "source": [
    "A bit messy. However, we can group these in a more complex data types:\n",
    "- Tuple\n",
    "- List\n",
    "- Set\n",
    "- Dictionary\n",
    "\n",
    "When to choose each one though?\n",
    "\n",
    "| Data Type | Allows Duplicates | Ordered | Can change its contents (mutable) |\n",
    "| --- | --- | --- | --- |\n",
    "| Tuple | Yes | Yes | No|\n",
    "| List | Yes | Yes | Yes|\n",
    "| Set | No| No| \"Yes\"|\n",
    "\n",
    "Dictionary is more specific: you store `key:value` pairs inside.\n",
    "Keys must be a basic data type or something that can be used as key because **it doesn't change its internal contents**: like `int`, `str` or maybe `tuple` (In other words, keys **must be immutable**).\n"
   ]
  },
  {
   "cell_type": "markdown",
   "id": "0876c1c1",
   "metadata": {},
   "source": [
    "Getting back to our address example, which one to choose?\n",
    "- My address won't change\n",
    "- The order matters\n",
    "- Duplicates are OK\n",
    "\n",
    "→ A Tuple!\n",
    "Also: a tuple is faster and more memory efficient than lists, and it has fixed number of members."
   ]
  },
  {
   "cell_type": "markdown",
   "id": "8c158a78",
   "metadata": {},
   "source": [
    "► *Do you have examples of when to use lists or sets?*"
   ]
  },
  {
   "cell_type": "markdown",
   "id": "51b5304e",
   "metadata": {},
   "source": [
    "## Tuples: define them with brackets `(` `)`"
   ]
  },
  {
   "cell_type": "code",
   "execution_count": 109,
   "id": "6a634a36",
   "metadata": {},
   "outputs": [
    {
     "data": {
      "text/plain": [
       "(33, 'Victoria road', 'Birmingham', 'A45 3SA')"
      ]
     },
     "execution_count": 109,
     "metadata": {},
     "output_type": "execute_result"
    }
   ],
   "source": [
    "address = (house_number, street, city, postcode)\n",
    "address"
   ]
  },
  {
   "cell_type": "code",
   "execution_count": 110,
   "id": "3172f5c1",
   "metadata": {},
   "outputs": [
    {
     "data": {
      "text/plain": [
       "'Birmingham'"
      ]
     },
     "execution_count": 110,
     "metadata": {},
     "output_type": "execute_result"
    }
   ],
   "source": [
    "address[2]"
   ]
  },
  {
   "cell_type": "code",
   "execution_count": 111,
   "id": "ebb6508b",
   "metadata": {},
   "outputs": [
    {
     "name": "stdout",
     "output_type": "stream",
     "text": [
      "33 Victoria road\n",
      "Birmingham A45 3SA\n"
     ]
    }
   ],
   "source": [
    "# We can extract tuple's data in one shot!\n",
    "nbr, strt, cty, pcode = address\n",
    "print(f\"\"\"{nbr} {strt}\n",
    "{cty} {pcode}\"\"\")"
   ]
  },
  {
   "cell_type": "code",
   "execution_count": 113,
   "id": "2049ecec",
   "metadata": {
    "scrolled": false
   },
   "outputs": [
    {
     "ename": "TypeError",
     "evalue": "'tuple' object does not support item assignment",
     "output_type": "error",
     "traceback": [
      "\u001b[1;31m---------------------------------------------------------------------------\u001b[0m",
      "\u001b[1;31mTypeError\u001b[0m                                 Traceback (most recent call last)",
      "Input \u001b[1;32mIn [113]\u001b[0m, in \u001b[0;36m<cell line: 1>\u001b[1;34m()\u001b[0m\n\u001b[1;32m----> 1\u001b[0m address[\u001b[38;5;241m2\u001b[39m] \u001b[38;5;241m=\u001b[39m \u001b[38;5;124m\"\u001b[39m\u001b[38;5;124mLondon\u001b[39m\u001b[38;5;124m\"\u001b[39m\n",
      "\u001b[1;31mTypeError\u001b[0m: 'tuple' object does not support item assignment"
     ]
    }
   ],
   "source": [
    "address[2] = \"London\""
   ]
  },
  {
   "cell_type": "code",
   "execution_count": 114,
   "id": "1035a4a4",
   "metadata": {},
   "outputs": [
    {
     "ename": "AttributeError",
     "evalue": "'tuple' object has no attribute 'append'",
     "output_type": "error",
     "traceback": [
      "\u001b[1;31m---------------------------------------------------------------------------\u001b[0m",
      "\u001b[1;31mAttributeError\u001b[0m                            Traceback (most recent call last)",
      "Input \u001b[1;32mIn [114]\u001b[0m, in \u001b[0;36m<cell line: 1>\u001b[1;34m()\u001b[0m\n\u001b[1;32m----> 1\u001b[0m \u001b[43maddress\u001b[49m\u001b[38;5;241;43m.\u001b[39;49m\u001b[43mappend\u001b[49m(\u001b[38;5;124m\"\u001b[39m\u001b[38;5;124mEarth\u001b[39m\u001b[38;5;124m\"\u001b[39m)\n",
      "\u001b[1;31mAttributeError\u001b[0m: 'tuple' object has no attribute 'append'"
     ]
    }
   ],
   "source": [
    "address.append(\"Earth\")"
   ]
  },
  {
   "cell_type": "code",
   "execution_count": 115,
   "id": "c5a9f4a4",
   "metadata": {},
   "outputs": [
    {
     "data": {
      "text/plain": [
       "tuple"
      ]
     },
     "execution_count": 115,
     "metadata": {},
     "output_type": "execute_result"
    }
   ],
   "source": [
    "type(address)"
   ]
  },
  {
   "cell_type": "markdown",
   "id": "6a335951",
   "metadata": {},
   "source": [
    "## Lists: define them with square brackets `[` `]`"
   ]
  },
  {
   "cell_type": "code",
   "execution_count": 116,
   "id": "db135bde",
   "metadata": {
    "scrolled": true
   },
   "outputs": [
    {
     "data": {
      "text/plain": [
       "['Tom', 'John', 'Peter', 'Luke', 'Sam']"
      ]
     },
     "execution_count": 116,
     "metadata": {},
     "output_type": "execute_result"
    }
   ],
   "source": [
    "queue = [\"Tom\", \"John\", \"Peter\", \"Luke\", \"Sam\"]\n",
    "queue"
   ]
  },
  {
   "cell_type": "code",
   "execution_count": 117,
   "id": "f120fe36",
   "metadata": {},
   "outputs": [
    {
     "data": {
      "text/plain": [
       "'Luke'"
      ]
     },
     "execution_count": 117,
     "metadata": {},
     "output_type": "execute_result"
    }
   ],
   "source": [
    "queue[3]"
   ]
  },
  {
   "cell_type": "code",
   "execution_count": 118,
   "id": "30927816",
   "metadata": {},
   "outputs": [
    {
     "ename": "IndexError",
     "evalue": "list index out of range",
     "output_type": "error",
     "traceback": [
      "\u001b[1;31m---------------------------------------------------------------------------\u001b[0m",
      "\u001b[1;31mIndexError\u001b[0m                                Traceback (most recent call last)",
      "Input \u001b[1;32mIn [118]\u001b[0m, in \u001b[0;36m<cell line: 1>\u001b[1;34m()\u001b[0m\n\u001b[1;32m----> 1\u001b[0m \u001b[43mqueue\u001b[49m\u001b[43m[\u001b[49m\u001b[38;5;241;43m5\u001b[39;49m\u001b[43m]\u001b[49m\n",
      "\u001b[1;31mIndexError\u001b[0m: list index out of range"
     ]
    }
   ],
   "source": [
    "queue[5]"
   ]
  },
  {
   "cell_type": "code",
   "execution_count": 119,
   "id": "c8b58757",
   "metadata": {},
   "outputs": [
    {
     "data": {
      "text/plain": [
       "'Tom'"
      ]
     },
     "execution_count": 119,
     "metadata": {},
     "output_type": "execute_result"
    }
   ],
   "source": [
    "queue[-5]"
   ]
  },
  {
   "cell_type": "code",
   "execution_count": 120,
   "id": "8f8b886c",
   "metadata": {},
   "outputs": [
    {
     "data": {
      "text/plain": [
       "'Sam'"
      ]
     },
     "execution_count": 120,
     "metadata": {},
     "output_type": "execute_result"
    }
   ],
   "source": [
    "queue[-1]"
   ]
  },
  {
   "cell_type": "code",
   "execution_count": 121,
   "id": "c93bf5fa",
   "metadata": {},
   "outputs": [
    {
     "data": {
      "text/plain": [
       "'Peter'"
      ]
     },
     "execution_count": 121,
     "metadata": {},
     "output_type": "execute_result"
    }
   ],
   "source": [
    "queue[-3]"
   ]
  },
  {
   "cell_type": "code",
   "execution_count": 122,
   "id": "14cbf11d",
   "metadata": {},
   "outputs": [
    {
     "data": {
      "text/plain": [
       "list"
      ]
     },
     "execution_count": 122,
     "metadata": {},
     "output_type": "execute_result"
    }
   ],
   "source": [
    "type(queue)"
   ]
  },
  {
   "cell_type": "markdown",
   "id": "c88d2058",
   "metadata": {},
   "source": [
    "Slicing with lists"
   ]
  },
  {
   "cell_type": "code",
   "execution_count": 123,
   "id": "7fc786d6",
   "metadata": {},
   "outputs": [
    {
     "data": {
      "text/plain": [
       "['Tom', 'John', 'Peter', 'Luke', 'Sam']"
      ]
     },
     "execution_count": 123,
     "metadata": {},
     "output_type": "execute_result"
    }
   ],
   "source": [
    "queue"
   ]
  },
  {
   "cell_type": "code",
   "execution_count": 124,
   "id": "1ed70dda",
   "metadata": {},
   "outputs": [
    {
     "data": {
      "text/plain": [
       "['Tom', 'John', 'Peter', 'Luke', 'Sam']"
      ]
     },
     "execution_count": 124,
     "metadata": {},
     "output_type": "execute_result"
    }
   ],
   "source": [
    "queue[:]"
   ]
  },
  {
   "cell_type": "code",
   "execution_count": 125,
   "id": "7d37afb7",
   "metadata": {},
   "outputs": [
    {
     "data": {
      "text/plain": [
       "['John', 'Peter']"
      ]
     },
     "execution_count": 125,
     "metadata": {},
     "output_type": "execute_result"
    }
   ],
   "source": [
    "queue[1:3]"
   ]
  },
  {
   "cell_type": "code",
   "execution_count": 126,
   "id": "81c354ca",
   "metadata": {},
   "outputs": [
    {
     "data": {
      "text/plain": [
       "['Peter', 'Luke', 'Sam']"
      ]
     },
     "execution_count": 126,
     "metadata": {},
     "output_type": "execute_result"
    }
   ],
   "source": [
    "queue[2:]"
   ]
  },
  {
   "cell_type": "code",
   "execution_count": 131,
   "id": "306e037f",
   "metadata": {},
   "outputs": [
    {
     "data": {
      "text/plain": [
       "['Tom', 'John', 'Peter']"
      ]
     },
     "execution_count": 131,
     "metadata": {},
     "output_type": "execute_result"
    }
   ],
   "source": [
    "queue[:3]"
   ]
  },
  {
   "cell_type": "code",
   "execution_count": 130,
   "id": "202917bb",
   "metadata": {},
   "outputs": [
    {
     "ename": "TypeError",
     "evalue": "list indices must be integers or slices, not tuple",
     "output_type": "error",
     "traceback": [
      "\u001b[1;31m---------------------------------------------------------------------------\u001b[0m",
      "\u001b[1;31mTypeError\u001b[0m                                 Traceback (most recent call last)",
      "Input \u001b[1;32mIn [130]\u001b[0m, in \u001b[0;36m<cell line: 1>\u001b[1;34m()\u001b[0m\n\u001b[1;32m----> 1\u001b[0m \u001b[43mqueue\u001b[49m\u001b[43m[\u001b[49m\u001b[38;5;241;43m2\u001b[39;49m\u001b[43m,\u001b[49m\u001b[38;5;241;43m3\u001b[39;49m\u001b[43m,\u001b[49m\u001b[38;5;241;43m4\u001b[39;49m\u001b[43m]\u001b[49m\n",
      "\u001b[1;31mTypeError\u001b[0m: list indices must be integers or slices, not tuple"
     ]
    }
   ],
   "source": [
    "queue[2,3,4]"
   ]
  },
  {
   "cell_type": "code",
   "execution_count": 13,
   "id": "909544ea",
   "metadata": {},
   "outputs": [
    {
     "data": {
      "text/plain": [
       "['Tom', 'John', 'Peter', 'Luke', 'Sam', 'Mary']"
      ]
     },
     "execution_count": 13,
     "metadata": {},
     "output_type": "execute_result"
    }
   ],
   "source": [
    "queue"
   ]
  },
  {
   "cell_type": "code",
   "execution_count": 9,
   "id": "5e3a7d81",
   "metadata": {},
   "outputs": [
    {
     "data": {
      "text/plain": [
       "['Tom', 'John', 'Peter', 'Luke', 'Sam', 'Bridget', 'Valerie', 'Mary', 'Aaron']"
      ]
     },
     "execution_count": 9,
     "metadata": {},
     "output_type": "execute_result"
    }
   ],
   "source": [
    "# We can change the contents of the queue because it is mutable!\n",
    "queue.append(\"Aaron\")\n",
    "queue"
   ]
  },
  {
   "cell_type": "code",
   "execution_count": 10,
   "id": "5c78f10d",
   "metadata": {},
   "outputs": [
    {
     "data": {
      "text/plain": [
       "['Tom',\n",
       " 'John',\n",
       " 'Peter',\n",
       " 'Luke',\n",
       " 'Sam',\n",
       " 'Bridget',\n",
       " 'Valerie',\n",
       " 'Mary',\n",
       " 'Aaron',\n",
       " ['Bridget', 'Valerie', 'Susie']]"
      ]
     },
     "execution_count": 10,
     "metadata": {},
     "output_type": "execute_result"
    }
   ],
   "source": [
    "# Let's imagine we have a new line of people at the door\n",
    "new_people = [\"Bridget\", \"Valerie\", \"Susie\"]\n",
    "queue.append(new_people)\n",
    "queue"
   ]
  },
  {
   "cell_type": "code",
   "execution_count": null,
   "id": "a3ae55b0",
   "metadata": {},
   "outputs": [],
   "source": [
    "print(queue)"
   ]
  },
  {
   "cell_type": "code",
   "execution_count": 11,
   "id": "825c08ad",
   "metadata": {},
   "outputs": [
    {
     "ename": "TypeError",
     "evalue": "list.append() takes exactly one argument (2 given)",
     "output_type": "error",
     "traceback": [
      "\u001b[1;31m---------------------------------------------------------------------------\u001b[0m",
      "\u001b[1;31mTypeError\u001b[0m                                 Traceback (most recent call last)",
      "Input \u001b[1;32mIn [11]\u001b[0m, in \u001b[0;36m<cell line: 2>\u001b[1;34m()\u001b[0m\n\u001b[0;32m      1\u001b[0m queue \u001b[38;5;241m=\u001b[39m [\u001b[38;5;124m\"\u001b[39m\u001b[38;5;124mTom\u001b[39m\u001b[38;5;124m\"\u001b[39m, \u001b[38;5;124m\"\u001b[39m\u001b[38;5;124mJohn\u001b[39m\u001b[38;5;124m\"\u001b[39m, \u001b[38;5;124m\"\u001b[39m\u001b[38;5;124mPeter\u001b[39m\u001b[38;5;124m\"\u001b[39m, \u001b[38;5;124m\"\u001b[39m\u001b[38;5;124mLuke\u001b[39m\u001b[38;5;124m\"\u001b[39m, \u001b[38;5;124m\"\u001b[39m\u001b[38;5;124mSam\u001b[39m\u001b[38;5;124m\"\u001b[39m]\n\u001b[1;32m----> 2\u001b[0m \u001b[43mqueue\u001b[49m\u001b[38;5;241;43m.\u001b[39;49m\u001b[43mappend\u001b[49m\u001b[43m(\u001b[49m\u001b[38;5;124;43m\"\u001b[39;49m\u001b[38;5;124;43mRafi\u001b[39;49m\u001b[38;5;124;43m\"\u001b[39;49m\u001b[43m,\u001b[49m\u001b[43m \u001b[49m\u001b[38;5;124;43m\"\u001b[39;49m\u001b[38;5;124;43mGary\u001b[39;49m\u001b[38;5;124;43m\"\u001b[39;49m\u001b[43m)\u001b[49m\n",
      "\u001b[1;31mTypeError\u001b[0m: list.append() takes exactly one argument (2 given)"
     ]
    }
   ],
   "source": [
    "queue = [\"Tom\", \"John\", \"Peter\", \"Luke\", \"Sam\"]\n",
    "queue.append(\"Rafi\", \"Gary\")"
   ]
  },
  {
   "cell_type": "code",
   "execution_count": 21,
   "id": "89015911",
   "metadata": {},
   "outputs": [
    {
     "ename": "AttributeError",
     "evalue": "'NoneType' object has no attribute 'append'",
     "output_type": "error",
     "traceback": [
      "\u001b[1;31m---------------------------------------------------------------------------\u001b[0m",
      "\u001b[1;31mAttributeError\u001b[0m                            Traceback (most recent call last)",
      "Input \u001b[1;32mIn [21]\u001b[0m, in \u001b[0;36m<cell line: 1>\u001b[1;34m()\u001b[0m\n\u001b[1;32m----> 1\u001b[0m \u001b[43mqueue\u001b[49m\u001b[38;5;241;43m.\u001b[39;49m\u001b[43mappend\u001b[49m\u001b[43m(\u001b[49m\u001b[38;5;124;43m\"\u001b[39;49m\u001b[38;5;124;43mMary\u001b[39;49m\u001b[38;5;124;43m\"\u001b[39;49m\u001b[43m)\u001b[49m\u001b[38;5;241;43m.\u001b[39;49m\u001b[43mappend\u001b[49m(\u001b[38;5;124m\"\u001b[39m\u001b[38;5;124mValerie\u001b[39m\u001b[38;5;124m\"\u001b[39m)\n\u001b[0;32m      2\u001b[0m queue\n",
      "\u001b[1;31mAttributeError\u001b[0m: 'NoneType' object has no attribute 'append'"
     ]
    }
   ],
   "source": [
    "queue.append(\"Mary\").append(\"Valerie\")\n",
    "queue"
   ]
  },
  {
   "cell_type": "code",
   "execution_count": 22,
   "id": "a87186f4",
   "metadata": {},
   "outputs": [
    {
     "data": {
      "text/plain": [
       "['Tom', 'John', 'Peter', 'Luke', 'Sam', 'Bridget', 'Valerie', 'Mary']"
      ]
     },
     "execution_count": 22,
     "metadata": {},
     "output_type": "execute_result"
    }
   ],
   "source": [
    "queue = [\"Tom\", \"John\", \"Peter\", \"Luke\", \"Sam\"]\n",
    "new_people = [\"Bridget\", \"Valerie\", \"Mary\"]\n",
    "\n",
    "queue.extend(new_people)\n",
    "queue"
   ]
  },
  {
   "cell_type": "code",
   "execution_count": 23,
   "id": "196e95c7",
   "metadata": {},
   "outputs": [],
   "source": [
    "# Can use basic operations on lists\n",
    "queue = [\"Tom\", \"John\", \"Peter\", \"Luke\", \"Sam\"]\n",
    "queue = queue + new_people"
   ]
  },
  {
   "cell_type": "code",
   "execution_count": 24,
   "id": "a42d5dbf",
   "metadata": {},
   "outputs": [
    {
     "data": {
      "text/plain": [
       "['Tom', 'John', 'Peter', 'Luke', 'Sam', 'Bridget', 'Valerie', 'Mary']"
      ]
     },
     "execution_count": 24,
     "metadata": {},
     "output_type": "execute_result"
    }
   ],
   "source": [
    "queue"
   ]
  },
  {
   "cell_type": "code",
   "execution_count": 25,
   "id": "15411c62",
   "metadata": {
    "scrolled": true
   },
   "outputs": [
    {
     "data": {
      "text/plain": [
       "['Tom',\n",
       " 'John',\n",
       " 'Peter',\n",
       " 'Luke',\n",
       " 'Sam',\n",
       " 'Bridget',\n",
       " 'Valerie',\n",
       " 'Mary',\n",
       " 'Tom',\n",
       " 'John',\n",
       " 'Peter',\n",
       " 'Luke',\n",
       " 'Sam',\n",
       " 'Bridget',\n",
       " 'Valerie',\n",
       " 'Mary',\n",
       " 'Tom',\n",
       " 'John',\n",
       " 'Peter',\n",
       " 'Luke',\n",
       " 'Sam',\n",
       " 'Bridget',\n",
       " 'Valerie',\n",
       " 'Mary',\n",
       " 'Rafi',\n",
       " 'Alan']"
      ]
     },
     "execution_count": 25,
     "metadata": {},
     "output_type": "execute_result"
    }
   ],
   "source": [
    "queue + queue + queue + [\"Rafi\"] + [\"Alan\"]"
   ]
  },
  {
   "cell_type": "code",
   "execution_count": 32,
   "id": "01233b9f",
   "metadata": {},
   "outputs": [
    {
     "data": {
      "text/plain": [
       "str"
      ]
     },
     "execution_count": 32,
     "metadata": {},
     "output_type": "execute_result"
    }
   ],
   "source": [
    "type(\"Rori\")"
   ]
  },
  {
   "cell_type": "code",
   "execution_count": 33,
   "id": "aa4af018",
   "metadata": {},
   "outputs": [
    {
     "data": {
      "text/plain": [
       "list"
      ]
     },
     "execution_count": 33,
     "metadata": {},
     "output_type": "execute_result"
    }
   ],
   "source": [
    "type([\"Rori\"])"
   ]
  },
  {
   "cell_type": "code",
   "execution_count": 30,
   "id": "3f0aee00",
   "metadata": {},
   "outputs": [
    {
     "data": {
      "text/plain": [
       "['Tom',\n",
       " 'John',\n",
       " 'Peter',\n",
       " 'Felicity',\n",
       " 'Luke',\n",
       " 'Sam',\n",
       " 'Bridget',\n",
       " 'Valerie',\n",
       " 'Mary',\n",
       " 'Rafi']"
      ]
     },
     "execution_count": 30,
     "metadata": {},
     "output_type": "execute_result"
    }
   ],
   "source": [
    "queue + [\"Rafi\"]"
   ]
  },
  {
   "cell_type": "code",
   "execution_count": 31,
   "id": "8e4c5bc5",
   "metadata": {},
   "outputs": [
    {
     "ename": "TypeError",
     "evalue": "can only concatenate list (not \"str\") to list",
     "output_type": "error",
     "traceback": [
      "\u001b[1;31m---------------------------------------------------------------------------\u001b[0m",
      "\u001b[1;31mTypeError\u001b[0m                                 Traceback (most recent call last)",
      "Input \u001b[1;32mIn [31]\u001b[0m, in \u001b[0;36m<cell line: 1>\u001b[1;34m()\u001b[0m\n\u001b[1;32m----> 1\u001b[0m \u001b[43mqueue\u001b[49m\u001b[43m \u001b[49m\u001b[38;5;241;43m+\u001b[39;49m\u001b[43m \u001b[49m\u001b[38;5;124;43m\"\u001b[39;49m\u001b[38;5;124;43mRori\u001b[39;49m\u001b[38;5;124;43m\"\u001b[39;49m\n",
      "\u001b[1;31mTypeError\u001b[0m: can only concatenate list (not \"str\") to list"
     ]
    }
   ],
   "source": [
    "queue + \"Rori\""
   ]
  },
  {
   "cell_type": "code",
   "execution_count": 27,
   "id": "f9e99cb4",
   "metadata": {},
   "outputs": [
    {
     "name": "stdout",
     "output_type": "stream",
     "text": [
      "['Tom', 'John', 'Peter', 'Luke', 'Sam', 'Bridget', 'Valerie', 'Mary']\n"
     ]
    }
   ],
   "source": [
    "print(queue)"
   ]
  },
  {
   "cell_type": "code",
   "execution_count": 28,
   "id": "5295d1ac",
   "metadata": {},
   "outputs": [
    {
     "data": {
      "text/plain": [
       "['Tom',\n",
       " 'John',\n",
       " 'Peter',\n",
       " 'Felicity',\n",
       " 'Luke',\n",
       " 'Sam',\n",
       " 'Bridget',\n",
       " 'Valerie',\n",
       " 'Mary']"
      ]
     },
     "execution_count": 28,
     "metadata": {},
     "output_type": "execute_result"
    }
   ],
   "source": [
    "# Since order matters, we want to be able to insert at specific location sometimes. We can then use `.insert()`:\n",
    "queue.insert(3, \"Felicity\")\n",
    "queue"
   ]
  },
  {
   "cell_type": "code",
   "execution_count": 34,
   "id": "58a02a51",
   "metadata": {},
   "outputs": [
    {
     "data": {
      "text/plain": [
       "['Bridget',\n",
       " 'Felicity',\n",
       " 'John',\n",
       " 'Luke',\n",
       " 'Mary',\n",
       " 'Peter',\n",
       " 'Sam',\n",
       " 'Tom',\n",
       " 'Valerie']"
      ]
     },
     "execution_count": 34,
     "metadata": {},
     "output_type": "execute_result"
    }
   ],
   "source": [
    "# Or even sort things\n",
    "queue.sort()\n",
    "queue"
   ]
  },
  {
   "cell_type": "code",
   "execution_count": 35,
   "id": "aa7e3dae",
   "metadata": {},
   "outputs": [
    {
     "data": {
      "text/plain": [
       "['Valerie',\n",
       " 'Tom',\n",
       " 'Sam',\n",
       " 'Peter',\n",
       " 'Mary',\n",
       " 'Luke',\n",
       " 'John',\n",
       " 'Felicity',\n",
       " 'Bridget']"
      ]
     },
     "execution_count": 35,
     "metadata": {},
     "output_type": "execute_result"
    }
   ],
   "source": [
    "queue.sort(reverse=True)\n",
    "queue"
   ]
  },
  {
   "cell_type": "code",
   "execution_count": 36,
   "id": "907c9ccb",
   "metadata": {},
   "outputs": [
    {
     "data": {
      "text/plain": [
       "['Valerie', 'Tom', 'Sam', 'Mary', 'Luke', 'John', 'Felicity', 'Bridget']"
      ]
     },
     "execution_count": 36,
     "metadata": {},
     "output_type": "execute_result"
    }
   ],
   "source": [
    "# Or even remove things\n",
    "queue.remove(\"Peter\")\n",
    "queue"
   ]
  },
  {
   "cell_type": "code",
   "execution_count": 37,
   "id": "815cbff1",
   "metadata": {
    "scrolled": true
   },
   "outputs": [
    {
     "ename": "ValueError",
     "evalue": "list.remove(x): x not in list",
     "output_type": "error",
     "traceback": [
      "\u001b[1;31m---------------------------------------------------------------------------\u001b[0m",
      "\u001b[1;31mValueError\u001b[0m                                Traceback (most recent call last)",
      "Input \u001b[1;32mIn [37]\u001b[0m, in \u001b[0;36m<cell line: 1>\u001b[1;34m()\u001b[0m\n\u001b[1;32m----> 1\u001b[0m \u001b[43mqueue\u001b[49m\u001b[38;5;241;43m.\u001b[39;49m\u001b[43mremove\u001b[49m\u001b[43m(\u001b[49m\u001b[38;5;124;43m\"\u001b[39;49m\u001b[38;5;124;43mDan\u001b[39;49m\u001b[38;5;124;43m\"\u001b[39;49m\u001b[43m)\u001b[49m\n",
      "\u001b[1;31mValueError\u001b[0m: list.remove(x): x not in list"
     ]
    }
   ],
   "source": [
    "queue.remove(\"Dan\")"
   ]
  },
  {
   "cell_type": "code",
   "execution_count": 38,
   "id": "b9e11b15",
   "metadata": {},
   "outputs": [
    {
     "data": {
      "text/plain": [
       "list"
      ]
     },
     "execution_count": 38,
     "metadata": {},
     "output_type": "execute_result"
    }
   ],
   "source": [
    "type(queue)"
   ]
  },
  {
   "cell_type": "markdown",
   "id": "012eed88",
   "metadata": {},
   "source": [
    "**We can have multi-dimensional lists!** that is by *nesting* lists:"
   ]
  },
  {
   "cell_type": "code",
   "execution_count": 39,
   "id": "9f80183e",
   "metadata": {},
   "outputs": [
    {
     "data": {
      "text/plain": [
       "[[1, 2, 3], [4, 5, 6], [7, 8, 9]]"
      ]
     },
     "execution_count": 39,
     "metadata": {},
     "output_type": "execute_result"
    }
   ],
   "source": [
    "matrix = [[1, 2, 3],\n",
    "         [4, 5, 6],\n",
    "         [7, 8, 9]]\n",
    "matrix"
   ]
  },
  {
   "cell_type": "code",
   "execution_count": 40,
   "id": "8277e387",
   "metadata": {},
   "outputs": [
    {
     "data": {
      "text/plain": [
       "list"
      ]
     },
     "execution_count": 40,
     "metadata": {},
     "output_type": "execute_result"
    }
   ],
   "source": [
    "type(matrix)"
   ]
  },
  {
   "cell_type": "code",
   "execution_count": 41,
   "id": "8f599cb5",
   "metadata": {
    "scrolled": true
   },
   "outputs": [
    {
     "ename": "TypeError",
     "evalue": "list indices must be integers or slices, not tuple",
     "output_type": "error",
     "traceback": [
      "\u001b[1;31m---------------------------------------------------------------------------\u001b[0m",
      "\u001b[1;31mTypeError\u001b[0m                                 Traceback (most recent call last)",
      "Input \u001b[1;32mIn [41]\u001b[0m, in \u001b[0;36m<cell line: 1>\u001b[1;34m()\u001b[0m\n\u001b[1;32m----> 1\u001b[0m \u001b[43mmatrix\u001b[49m\u001b[43m[\u001b[49m\u001b[38;5;241;43m1\u001b[39;49m\u001b[43m,\u001b[49m\u001b[43m \u001b[49m\u001b[38;5;241;43m2\u001b[39;49m\u001b[43m]\u001b[49m\n",
      "\u001b[1;31mTypeError\u001b[0m: list indices must be integers or slices, not tuple"
     ]
    }
   ],
   "source": [
    "matrix[1, 2]"
   ]
  },
  {
   "cell_type": "code",
   "execution_count": 42,
   "id": "a70dd5b5",
   "metadata": {},
   "outputs": [
    {
     "data": {
      "text/plain": [
       "1"
      ]
     },
     "execution_count": 42,
     "metadata": {},
     "output_type": "execute_result"
    }
   ],
   "source": [
    "matrix[0][0]"
   ]
  },
  {
   "cell_type": "code",
   "execution_count": 44,
   "id": "4a4094ef",
   "metadata": {},
   "outputs": [
    {
     "data": {
      "text/plain": [
       "[4, 5, 6]"
      ]
     },
     "execution_count": 44,
     "metadata": {},
     "output_type": "execute_result"
    }
   ],
   "source": [
    "matrix[1]"
   ]
  },
  {
   "cell_type": "code",
   "execution_count": 43,
   "id": "beaf3d97",
   "metadata": {},
   "outputs": [
    {
     "data": {
      "text/plain": [
       "6"
      ]
     },
     "execution_count": 43,
     "metadata": {},
     "output_type": "execute_result"
    }
   ],
   "source": [
    "matrix[1][2]"
   ]
  },
  {
   "cell_type": "code",
   "execution_count": 45,
   "id": "b31dd977",
   "metadata": {},
   "outputs": [
    {
     "data": {
      "text/plain": [
       "[[1, 2, 3], [4, 5, 6], [7, 8, 9]]"
      ]
     },
     "execution_count": 45,
     "metadata": {},
     "output_type": "execute_result"
    }
   ],
   "source": [
    "matrix"
   ]
  },
  {
   "cell_type": "code",
   "execution_count": 50,
   "id": "5d6e899a",
   "metadata": {},
   "outputs": [
    {
     "data": {
      "text/plain": [
       "3"
      ]
     },
     "execution_count": 50,
     "metadata": {},
     "output_type": "execute_result"
    }
   ],
   "source": [
    "len(matrix)"
   ]
  },
  {
   "cell_type": "code",
   "execution_count": 49,
   "id": "50285bac",
   "metadata": {},
   "outputs": [
    {
     "data": {
      "text/plain": [
       "[3, 2, 1]"
      ]
     },
     "execution_count": 49,
     "metadata": {},
     "output_type": "execute_result"
    }
   ],
   "source": [
    "matrix[0].sort(reverse=True)\n",
    "matrix[0]"
   ]
  },
  {
   "cell_type": "code",
   "execution_count": 47,
   "id": "89642028",
   "metadata": {},
   "outputs": [
    {
     "data": {
      "text/plain": [
       "9"
      ]
     },
     "execution_count": 47,
     "metadata": {},
     "output_type": "execute_result"
    }
   ],
   "source": [
    "matrix[2][2]"
   ]
  },
  {
   "cell_type": "code",
   "execution_count": 48,
   "id": "9d04f4a7",
   "metadata": {},
   "outputs": [
    {
     "ename": "IndexError",
     "evalue": "list index out of range",
     "output_type": "error",
     "traceback": [
      "\u001b[1;31m---------------------------------------------------------------------------\u001b[0m",
      "\u001b[1;31mIndexError\u001b[0m                                Traceback (most recent call last)",
      "Input \u001b[1;32mIn [48]\u001b[0m, in \u001b[0;36m<cell line: 1>\u001b[1;34m()\u001b[0m\n\u001b[1;32m----> 1\u001b[0m \u001b[43mmatrix\u001b[49m\u001b[43m[\u001b[49m\u001b[38;5;241;43m7\u001b[39;49m\u001b[43m]\u001b[49m[\u001b[38;5;241m1\u001b[39m]\n",
      "\u001b[1;31mIndexError\u001b[0m: list index out of range"
     ]
    }
   ],
   "source": [
    "matrix[7][1]"
   ]
  },
  {
   "cell_type": "markdown",
   "id": "05d5dba6",
   "metadata": {},
   "source": [
    "# Sets: define them with `set([])` or with `{` `}` if not empty"
   ]
  },
  {
   "cell_type": "markdown",
   "id": "ba3fbfa5",
   "metadata": {},
   "source": [
    "The main feautre: **no duplicates**! We can perform set operations on sets, like union and intersection, which is very handy! Memberships are typically modelled with sets.\n",
    "\n",
    "Note: a set is **unordered**! so no indexes or order here"
   ]
  },
  {
   "cell_type": "code",
   "execution_count": null,
   "id": "26caca8c",
   "metadata": {},
   "outputs": [],
   "source": [
    "husband_bag = {\"apples\", \"orages\", \"eggs\"}\n",
    "husband_bag"
   ]
  },
  {
   "cell_type": "code",
   "execution_count": null,
   "id": "913124da",
   "metadata": {},
   "outputs": [],
   "source": [
    "husband_bag = set([\"apples\", \"oranges\", \"eggs\"])\n",
    "husband_bag"
   ]
  },
  {
   "cell_type": "code",
   "execution_count": null,
   "id": "42b5860c",
   "metadata": {},
   "outputs": [],
   "source": [
    "husband_bag.add(\"chocolate\")\n",
    "husband_bag"
   ]
  },
  {
   "cell_type": "code",
   "execution_count": null,
   "id": "2920210c",
   "metadata": {},
   "outputs": [],
   "source": [
    "husband_bag.add(\"eggs\")\n",
    "husband_bag"
   ]
  },
  {
   "cell_type": "code",
   "execution_count": null,
   "id": "112d7339",
   "metadata": {},
   "outputs": [],
   "source": [
    "husband_bag.update([\"PS4\", \"Castle Vania\", \"apples\"])\n",
    "husband_bag"
   ]
  },
  {
   "cell_type": "code",
   "execution_count": null,
   "id": "56f438cc",
   "metadata": {},
   "outputs": [],
   "source": [
    "husband_bag[0]"
   ]
  },
  {
   "cell_type": "code",
   "execution_count": null,
   "id": "10f337b0",
   "metadata": {
    "scrolled": true
   },
   "outputs": [],
   "source": [
    "wife_bag = {\"milk\", \"meat\", \"eggs\", \"chocolate\", \"chocolate\", \"chocolate\"}\n",
    "wife_bag"
   ]
  },
  {
   "cell_type": "markdown",
   "id": "ed42a37e",
   "metadata": {},
   "source": [
    "Let's find particular items of both of them:"
   ]
  },
  {
   "cell_type": "code",
   "execution_count": null,
   "id": "8dc041a7",
   "metadata": {},
   "outputs": [],
   "source": [
    "husband_bag"
   ]
  },
  {
   "cell_type": "code",
   "execution_count": null,
   "id": "00f8d349",
   "metadata": {},
   "outputs": [],
   "source": [
    "wife_bag"
   ]
  },
  {
   "cell_type": "code",
   "execution_count": null,
   "id": "3570ddba",
   "metadata": {},
   "outputs": [],
   "source": [
    "wife_bag.difference(husband_bag)"
   ]
  },
  {
   "cell_type": "code",
   "execution_count": null,
   "id": "b457a56d",
   "metadata": {},
   "outputs": [],
   "source": [
    "husband_bag.difference(wife_bag)"
   ]
  },
  {
   "cell_type": "code",
   "execution_count": null,
   "id": "f39c57ca",
   "metadata": {},
   "outputs": [],
   "source": [
    "wife_bag.symmetric_difference(husband_bag)"
   ]
  },
  {
   "cell_type": "code",
   "execution_count": null,
   "id": "4aa2a8d2",
   "metadata": {},
   "outputs": [],
   "source": [
    "wife_bag ^ husband_bag"
   ]
  },
  {
   "cell_type": "markdown",
   "id": "c799db23",
   "metadata": {},
   "source": [
    "Has any of the two bought the same thing twice? let's avoid an argument and find out!"
   ]
  },
  {
   "cell_type": "code",
   "execution_count": null,
   "id": "548ef17c",
   "metadata": {},
   "outputs": [],
   "source": [
    "wife_bag.intersection(husband_bag)"
   ]
  },
  {
   "cell_type": "code",
   "execution_count": null,
   "id": "4e3e0b99",
   "metadata": {},
   "outputs": [],
   "source": [
    "husband_bag.discard(\"eggs\")\n",
    "husband_bag.discard(\"chocolate\")\n",
    "\n",
    "if len(wife_bag.intersection(husband_bag)) == 0:\n",
    "    print(\"We're good now!\")"
   ]
  },
  {
   "cell_type": "code",
   "execution_count": null,
   "id": "d39600b8",
   "metadata": {},
   "outputs": [],
   "source": [
    "husband_bag"
   ]
  },
  {
   "cell_type": "code",
   "execution_count": null,
   "id": "8bf05256",
   "metadata": {},
   "outputs": [],
   "source": [
    "husband_bag.remove(\"eggs\")"
   ]
  },
  {
   "cell_type": "code",
   "execution_count": null,
   "id": "821de23b",
   "metadata": {},
   "outputs": [],
   "source": [
    "husband_bag.add(\"eggs\")\n",
    "husband_bag.discard(\"eggs\")\n",
    "husband_bag"
   ]
  },
  {
   "cell_type": "code",
   "execution_count": null,
   "id": "e7807951",
   "metadata": {},
   "outputs": [],
   "source": [
    "husband_bag.discard(\"eggs\")\n",
    "husband_bag"
   ]
  },
  {
   "cell_type": "markdown",
   "id": "6ebbb602",
   "metadata": {},
   "source": [
    "Let's have an overview of what the couple has bought:"
   ]
  },
  {
   "cell_type": "code",
   "execution_count": null,
   "id": "614bf6b7",
   "metadata": {},
   "outputs": [],
   "source": [
    "husband_bag.union(wife_bag)"
   ]
  },
  {
   "cell_type": "code",
   "execution_count": null,
   "id": "a7155bac",
   "metadata": {},
   "outputs": [],
   "source": [
    "couples_bag = husband_bag.union(wife_bag)\n",
    "\n",
    "print(f\"The couple bought {len(couples_bag)} types of items\")"
   ]
  },
  {
   "cell_type": "code",
   "execution_count": null,
   "id": "3e76bb6a",
   "metadata": {},
   "outputs": [],
   "source": [
    "child = {\"apples\", \"sugar\"}\n",
    "child"
   ]
  },
  {
   "cell_type": "code",
   "execution_count": null,
   "id": "ea3d276a",
   "metadata": {},
   "outputs": [],
   "source": [
    "husband_bag.union(wife_bag).union(child)"
   ]
  },
  {
   "cell_type": "markdown",
   "id": "061a0b20",
   "metadata": {},
   "source": [
    "# Dictionaries: define them with `{` `}`"
   ]
  },
  {
   "cell_type": "markdown",
   "id": "12d6a59d",
   "metadata": {},
   "source": [
    "Very common and powerful data structure, wherever you have associative relations between a \"key\" and a \"value\": key → value(s)."
   ]
  },
  {
   "cell_type": "markdown",
   "id": "c2ae6c01",
   "metadata": {},
   "source": [
    "Typical example: **telephone directory**!\n",
    "Let's make one for BT, wher we have Tom, Mary and Rebecca as customers."
   ]
  },
  {
   "cell_type": "code",
   "execution_count": 51,
   "id": "2b9da96f",
   "metadata": {},
   "outputs": [
    {
     "name": "stdout",
     "output_type": "stream",
     "text": [
      "{}\n",
      "<class 'dict'>\n"
     ]
    }
   ],
   "source": [
    "bt_phone_book = {}\n",
    "print(bt_phone_book)\n",
    "print(type(bt_phone_book))"
   ]
  },
  {
   "cell_type": "markdown",
   "id": "91ba8fa3",
   "metadata": {},
   "source": [
    "Since its type is dict, there is a `dict()` function which we can use too, like other datatypes:"
   ]
  },
  {
   "cell_type": "code",
   "execution_count": null,
   "id": "516653e5",
   "metadata": {},
   "outputs": [],
   "source": [
    "bt_phone_book = dict([])\n",
    "bt_phone_book"
   ]
  },
  {
   "cell_type": "markdown",
   "id": "6cc59b7e",
   "metadata": {},
   "source": [
    "Since we know the keys, we can use `dict.fromkeys`:"
   ]
  },
  {
   "cell_type": "code",
   "execution_count": 53,
   "id": "088a6d72",
   "metadata": {},
   "outputs": [],
   "source": [
    "customers = ['Tom', 'Mary', 'Rebecca']"
   ]
  },
  {
   "cell_type": "code",
   "execution_count": 54,
   "id": "3a5e5e23",
   "metadata": {},
   "outputs": [
    {
     "data": {
      "text/plain": [
       "{'Tom': '0000-000-0000', 'Mary': '0000-000-0000', 'Rebecca': '0000-000-0000'}"
      ]
     },
     "execution_count": 54,
     "metadata": {},
     "output_type": "execute_result"
    }
   ],
   "source": [
    "bt_phone_book = dict.fromkeys(customers, \"0000-000-0000\")\n",
    "bt_phone_book"
   ]
  },
  {
   "cell_type": "code",
   "execution_count": 55,
   "id": "edf6deb9",
   "metadata": {},
   "outputs": [
    {
     "data": {
      "text/plain": [
       "{'Tom': '013253434', 'Mary': '734246344', 'Rebecca': '533159372'}"
      ]
     },
     "execution_count": 55,
     "metadata": {},
     "output_type": "execute_result"
    }
   ],
   "source": [
    "bt_phone_book = {\"Tom\": '013253434',\n",
    "                \"Mary\": '734246344',\n",
    "                \"Rebecca\": '533159372'}\n",
    "bt_phone_book"
   ]
  },
  {
   "cell_type": "markdown",
   "id": "47d318e6",
   "metadata": {},
   "source": [
    "## Dictionary Keys and Values or Items"
   ]
  },
  {
   "cell_type": "code",
   "execution_count": 56,
   "id": "3c19666e",
   "metadata": {
    "scrolled": true
   },
   "outputs": [
    {
     "name": "stdout",
     "output_type": "stream",
     "text": [
      "Keys: dict_keys(['Tom', 'Mary', 'Rebecca'])\n",
      "Values: dict_values(['013253434', '734246344', '533159372'])\n"
     ]
    }
   ],
   "source": [
    "print(\"Keys:\", bt_phone_book.keys())\n",
    "print(\"Values:\", bt_phone_book.values())"
   ]
  },
  {
   "cell_type": "code",
   "execution_count": 57,
   "id": "3e122b10",
   "metadata": {},
   "outputs": [
    {
     "data": {
      "text/plain": [
       "'013253434'"
      ]
     },
     "execution_count": 57,
     "metadata": {},
     "output_type": "execute_result"
    }
   ],
   "source": [
    "bt_phone_book[\"Tom\"]"
   ]
  },
  {
   "cell_type": "code",
   "execution_count": 58,
   "id": "508e4e21",
   "metadata": {},
   "outputs": [
    {
     "ename": "KeyError",
     "evalue": "0",
     "output_type": "error",
     "traceback": [
      "\u001b[1;31m---------------------------------------------------------------------------\u001b[0m",
      "\u001b[1;31mKeyError\u001b[0m                                  Traceback (most recent call last)",
      "Input \u001b[1;32mIn [58]\u001b[0m, in \u001b[0;36m<cell line: 1>\u001b[1;34m()\u001b[0m\n\u001b[1;32m----> 1\u001b[0m \u001b[43mbt_phone_book\u001b[49m\u001b[43m[\u001b[49m\u001b[38;5;241;43m0\u001b[39;49m\u001b[43m]\u001b[49m\n",
      "\u001b[1;31mKeyError\u001b[0m: 0"
     ]
    }
   ],
   "source": [
    "bt_phone_book[0]"
   ]
  },
  {
   "cell_type": "code",
   "execution_count": 59,
   "id": "9293962a",
   "metadata": {},
   "outputs": [
    {
     "data": {
      "text/plain": [
       "'013253434'"
      ]
     },
     "execution_count": 59,
     "metadata": {},
     "output_type": "execute_result"
    }
   ],
   "source": [
    "bt_phone_book.get(\"Tom\")"
   ]
  },
  {
   "cell_type": "code",
   "execution_count": 60,
   "id": "8478646a",
   "metadata": {},
   "outputs": [
    {
     "data": {
      "text/plain": [
       "{'Tom': '013253434', 'Mary': '734246344', 'Rebecca': '533159372'}"
      ]
     },
     "execution_count": 60,
     "metadata": {},
     "output_type": "execute_result"
    }
   ],
   "source": [
    "bt_phone_book"
   ]
  },
  {
   "cell_type": "code",
   "execution_count": 61,
   "id": "ba1b4f8a",
   "metadata": {},
   "outputs": [
    {
     "ename": "KeyError",
     "evalue": "'Sam'",
     "output_type": "error",
     "traceback": [
      "\u001b[1;31m---------------------------------------------------------------------------\u001b[0m",
      "\u001b[1;31mKeyError\u001b[0m                                  Traceback (most recent call last)",
      "Input \u001b[1;32mIn [61]\u001b[0m, in \u001b[0;36m<cell line: 1>\u001b[1;34m()\u001b[0m\n\u001b[1;32m----> 1\u001b[0m \u001b[43mbt_phone_book\u001b[49m\u001b[43m[\u001b[49m\u001b[38;5;124;43m\"\u001b[39;49m\u001b[38;5;124;43mSam\u001b[39;49m\u001b[38;5;124;43m\"\u001b[39;49m\u001b[43m]\u001b[49m\n",
      "\u001b[1;31mKeyError\u001b[0m: 'Sam'"
     ]
    }
   ],
   "source": [
    "bt_phone_book[\"Sam\"]"
   ]
  },
  {
   "cell_type": "code",
   "execution_count": 62,
   "id": "9aa74ce0",
   "metadata": {},
   "outputs": [],
   "source": [
    "bt_phone_book.get(\"Sam\")"
   ]
  },
  {
   "cell_type": "code",
   "execution_count": 63,
   "id": "04813e21",
   "metadata": {
    "scrolled": true
   },
   "outputs": [
    {
     "data": {
      "text/plain": [
       "{'Tom': '013253434',\n",
       " 'Mary': '734246344',\n",
       " 'Rebecca': '533159372',\n",
       " 'Sam': '72453'}"
      ]
     },
     "execution_count": 63,
     "metadata": {},
     "output_type": "execute_result"
    }
   ],
   "source": [
    "bt_phone_book[\"Sam\"] = '72453'\n",
    "bt_phone_book"
   ]
  },
  {
   "cell_type": "code",
   "execution_count": 64,
   "id": "07f557e2",
   "metadata": {},
   "outputs": [
    {
     "data": {
      "text/plain": [
       "{'Tom': '013253434', 'Mary': '734246344', 'Rebecca': '533159372'}"
      ]
     },
     "execution_count": 64,
     "metadata": {},
     "output_type": "execute_result"
    }
   ],
   "source": [
    "del(bt_phone_book[\"Sam\"])\n",
    "bt_phone_book"
   ]
  },
  {
   "cell_type": "code",
   "execution_count": 65,
   "id": "dbe0ea01",
   "metadata": {},
   "outputs": [
    {
     "data": {
      "text/plain": [
       "dict_items([('Tom', '013253434'), ('Mary', '734246344'), ('Rebecca', '533159372')])"
      ]
     },
     "execution_count": 65,
     "metadata": {},
     "output_type": "execute_result"
    }
   ],
   "source": [
    "bt_phone_book.items()"
   ]
  },
  {
   "cell_type": "markdown",
   "id": "42af64d4",
   "metadata": {},
   "source": [
    "What if a person has many phone numbers??"
   ]
  },
  {
   "cell_type": "code",
   "execution_count": 66,
   "id": "51c27e78",
   "metadata": {},
   "outputs": [
    {
     "data": {
      "text/plain": [
       "{'Tom': '013253434', 'Mary': '734246344', 'Rebecca': ['533159372']}"
      ]
     },
     "execution_count": 66,
     "metadata": {},
     "output_type": "execute_result"
    }
   ],
   "source": [
    "# Let's make a better phone book\n",
    "bt_phone_book = {\"Tom\": '013253434',\n",
    "                \"Mary\": '734246344',\n",
    "                \"Rebecca\": ['533159372']}\n",
    "bt_phone_book"
   ]
  },
  {
   "cell_type": "code",
   "execution_count": 67,
   "id": "910904cc",
   "metadata": {},
   "outputs": [
    {
     "data": {
      "text/plain": [
       "{'Tom': '013253434',\n",
       " 'Mary': '734246344',\n",
       " 'Rebecca': ['533159372', '456198416']}"
      ]
     },
     "execution_count": 67,
     "metadata": {},
     "output_type": "execute_result"
    }
   ],
   "source": [
    "bt_phone_book[\"Rebecca\"].append(\"456198416\")\n",
    "bt_phone_book"
   ]
  },
  {
   "cell_type": "code",
   "execution_count": 68,
   "id": "c05bdfa7",
   "metadata": {},
   "outputs": [
    {
     "ename": "AttributeError",
     "evalue": "'str' object has no attribute 'append'",
     "output_type": "error",
     "traceback": [
      "\u001b[1;31m---------------------------------------------------------------------------\u001b[0m",
      "\u001b[1;31mAttributeError\u001b[0m                            Traceback (most recent call last)",
      "Input \u001b[1;32mIn [68]\u001b[0m, in \u001b[0;36m<cell line: 2>\u001b[1;34m()\u001b[0m\n\u001b[0;32m      1\u001b[0m \u001b[38;5;66;03m# Let's add a number to Mary:\u001b[39;00m\n\u001b[1;32m----> 2\u001b[0m \u001b[43mbt_phone_book\u001b[49m\u001b[43m[\u001b[49m\u001b[38;5;124;43m\"\u001b[39;49m\u001b[38;5;124;43mMary\u001b[39;49m\u001b[38;5;124;43m\"\u001b[39;49m\u001b[43m]\u001b[49m\u001b[38;5;241;43m.\u001b[39;49m\u001b[43mappend\u001b[49m(\u001b[38;5;124m\"\u001b[39m\u001b[38;5;124m456198416\u001b[39m\u001b[38;5;124m\"\u001b[39m)\n\u001b[0;32m      3\u001b[0m bt_phone_book\n",
      "\u001b[1;31mAttributeError\u001b[0m: 'str' object has no attribute 'append'"
     ]
    }
   ],
   "source": [
    "# Let's add a number to Mary:\n",
    "bt_phone_book[\"Mary\"].append(\"456198416\")\n",
    "bt_phone_book"
   ]
  },
  {
   "cell_type": "code",
   "execution_count": 69,
   "id": "fad18251",
   "metadata": {},
   "outputs": [],
   "source": [
    "complex_phone_book = {\"Rebecca\": {\"House_Nbr\": ['3232'],\n",
    "                                  \"Office\": ['323232']\n",
    "                                 }\n",
    "                     }"
   ]
  },
  {
   "cell_type": "code",
   "execution_count": 70,
   "id": "ab10a964",
   "metadata": {},
   "outputs": [
    {
     "data": {
      "text/plain": [
       "['323232']"
      ]
     },
     "execution_count": 70,
     "metadata": {},
     "output_type": "execute_result"
    }
   ],
   "source": [
    "complex_phone_book[\"Rebecca\"][\"Office\"]"
   ]
  },
  {
   "cell_type": "code",
   "execution_count": 71,
   "id": "dcc38a4b",
   "metadata": {},
   "outputs": [
    {
     "data": {
      "text/plain": [
       "{'Tom': '013253434',\n",
       " 'Mary': '734246344',\n",
       " 'Rebecca': ['533159372', '456198416']}"
      ]
     },
     "execution_count": 71,
     "metadata": {},
     "output_type": "execute_result"
    }
   ],
   "source": [
    "bt_phone_book"
   ]
  },
  {
   "cell_type": "code",
   "execution_count": 72,
   "id": "f2c0b438",
   "metadata": {},
   "outputs": [
    {
     "data": {
      "text/plain": [
       "{'Tom': '013253434',\n",
       " 'Mary': '734246344',\n",
       " 'Rebecca': ['533159372', '456198416'],\n",
       " 'Sam': [143423, 634345],\n",
       " 'Dan': 632323}"
      ]
     },
     "execution_count": 72,
     "metadata": {},
     "output_type": "execute_result"
    }
   ],
   "source": [
    "new_customers = {\"Sam\": [143423, 634345], \"Dan\": 632323}\n",
    "bt_phone_book.update(new_customers)\n",
    "bt_phone_book"
   ]
  },
  {
   "cell_type": "code",
   "execution_count": 73,
   "id": "ff3dc858",
   "metadata": {},
   "outputs": [
    {
     "data": {
      "text/plain": [
       "{'Tom': '013253434',\n",
       " 'Mary': '734246344',\n",
       " 'Rebecca': ['533159372', '456198416'],\n",
       " 'Sam': None,\n",
       " 'Dan': 632323}"
      ]
     },
     "execution_count": 73,
     "metadata": {},
     "output_type": "execute_result"
    }
   ],
   "source": [
    "new_data = {\"Sam\": None}\n",
    "bt_phone_book.update(new_data)\n",
    "bt_phone_book"
   ]
  },
  {
   "cell_type": "markdown",
   "id": "49dba8d6",
   "metadata": {},
   "source": [
    "### The `isinstance()` function"
   ]
  },
  {
   "cell_type": "code",
   "execution_count": 77,
   "id": "25d07c73",
   "metadata": {},
   "outputs": [],
   "source": [
    "my_list = [2, 6, \"Tom\", \"John\", 8, True]\n",
    "my_tupe = (\"0044\", \"1521\", \"759123\")\n",
    "\n",
    "# Feel free to craft your own even more complex data types to suit your needs!\n",
    "my_dict = {\"country1\": {\"city1\": [\"street1\", \"street2\"],\n",
    "                        \"city2\": \"street3\"},\n",
    "          \"country2\": {\"city3\": \"street4\"}}"
   ]
  },
  {
   "cell_type": "code",
   "execution_count": 78,
   "id": "cc273f8b",
   "metadata": {},
   "outputs": [
    {
     "data": {
      "text/plain": [
       "list"
      ]
     },
     "execution_count": 78,
     "metadata": {},
     "output_type": "execute_result"
    }
   ],
   "source": [
    "type(my_list)"
   ]
  },
  {
   "cell_type": "code",
   "execution_count": 79,
   "id": "e604a1f5",
   "metadata": {},
   "outputs": [
    {
     "data": {
      "text/plain": [
       "tuple"
      ]
     },
     "execution_count": 79,
     "metadata": {},
     "output_type": "execute_result"
    }
   ],
   "source": [
    "type(my_tupe)"
   ]
  },
  {
   "cell_type": "code",
   "execution_count": 80,
   "id": "c5bfdbd5",
   "metadata": {},
   "outputs": [
    {
     "data": {
      "text/plain": [
       "dict"
      ]
     },
     "execution_count": 80,
     "metadata": {},
     "output_type": "execute_result"
    }
   ],
   "source": [
    "type(my_dict)"
   ]
  },
  {
   "cell_type": "code",
   "execution_count": 81,
   "id": "ce35cad5",
   "metadata": {},
   "outputs": [
    {
     "data": {
      "text/plain": [
       "True"
      ]
     },
     "execution_count": 81,
     "metadata": {},
     "output_type": "execute_result"
    }
   ],
   "source": [
    "type(my_list) == list"
   ]
  },
  {
   "cell_type": "code",
   "execution_count": 82,
   "id": "88f508b2",
   "metadata": {},
   "outputs": [
    {
     "data": {
      "text/plain": [
       "True"
      ]
     },
     "execution_count": 82,
     "metadata": {},
     "output_type": "execute_result"
    }
   ],
   "source": [
    "type(my_tupe) == tuple"
   ]
  },
  {
   "cell_type": "code",
   "execution_count": 83,
   "id": "70bca6bb",
   "metadata": {},
   "outputs": [
    {
     "data": {
      "text/plain": [
       "True"
      ]
     },
     "execution_count": 83,
     "metadata": {},
     "output_type": "execute_result"
    }
   ],
   "source": [
    "# Safer and should be used always for headache-free execution (subtypes and OOP...)\n",
    "isinstance(my_list, list)"
   ]
  },
  {
   "cell_type": "code",
   "execution_count": null,
   "id": "5dd24fc7",
   "metadata": {},
   "outputs": [],
   "source": [
    "isinstance(my_dict, tuple)"
   ]
  },
  {
   "cell_type": "code",
   "execution_count": null,
   "id": "1f6fb456",
   "metadata": {},
   "outputs": [],
   "source": [
    "isinstance(\"3\", int)"
   ]
  },
  {
   "cell_type": "markdown",
   "id": "e2f60fff",
   "metadata": {},
   "source": [
    "### The `len()` function"
   ]
  },
  {
   "cell_type": "code",
   "execution_count": 84,
   "id": "ce29370c",
   "metadata": {},
   "outputs": [
    {
     "data": {
      "text/plain": [
       "[2, 6, 'Tom', 'John', 8, True]"
      ]
     },
     "execution_count": 84,
     "metadata": {},
     "output_type": "execute_result"
    }
   ],
   "source": [
    "my_list"
   ]
  },
  {
   "cell_type": "code",
   "execution_count": 85,
   "id": "602ee169",
   "metadata": {
    "scrolled": true
   },
   "outputs": [
    {
     "data": {
      "text/plain": [
       "6"
      ]
     },
     "execution_count": 85,
     "metadata": {},
     "output_type": "execute_result"
    }
   ],
   "source": [
    "len(my_list)"
   ]
  },
  {
   "cell_type": "code",
   "execution_count": 86,
   "id": "774f6a5b",
   "metadata": {},
   "outputs": [
    {
     "ename": "IndexError",
     "evalue": "list index out of range",
     "output_type": "error",
     "traceback": [
      "\u001b[1;31m---------------------------------------------------------------------------\u001b[0m",
      "\u001b[1;31mIndexError\u001b[0m                                Traceback (most recent call last)",
      "Input \u001b[1;32mIn [86]\u001b[0m, in \u001b[0;36m<cell line: 1>\u001b[1;34m()\u001b[0m\n\u001b[1;32m----> 1\u001b[0m \u001b[43mmy_list\u001b[49m\u001b[43m[\u001b[49m\u001b[38;5;241;43m6\u001b[39;49m\u001b[43m]\u001b[49m\n",
      "\u001b[1;31mIndexError\u001b[0m: list index out of range"
     ]
    }
   ],
   "source": [
    "my_list[6]"
   ]
  },
  {
   "cell_type": "code",
   "execution_count": 87,
   "id": "3837d06d",
   "metadata": {},
   "outputs": [
    {
     "data": {
      "text/plain": [
       "3"
      ]
     },
     "execution_count": 87,
     "metadata": {},
     "output_type": "execute_result"
    }
   ],
   "source": [
    "len(my_tupe)"
   ]
  },
  {
   "cell_type": "code",
   "execution_count": 88,
   "id": "3ef05f76",
   "metadata": {},
   "outputs": [
    {
     "data": {
      "text/plain": [
       "{'country1': {'city1': ['street1', 'street2'], 'city2': 'street3'},\n",
       " 'country2': {'city3': 'street4'}}"
      ]
     },
     "execution_count": 88,
     "metadata": {},
     "output_type": "execute_result"
    }
   ],
   "source": [
    "my_dict"
   ]
  },
  {
   "cell_type": "code",
   "execution_count": 89,
   "id": "583b4337",
   "metadata": {},
   "outputs": [
    {
     "data": {
      "text/plain": [
       "2"
      ]
     },
     "execution_count": 89,
     "metadata": {},
     "output_type": "execute_result"
    }
   ],
   "source": [
    "len(my_dict)"
   ]
  },
  {
   "cell_type": "code",
   "execution_count": 90,
   "id": "e7ce1f3a",
   "metadata": {},
   "outputs": [
    {
     "data": {
      "text/plain": [
       "1"
      ]
     },
     "execution_count": 90,
     "metadata": {},
     "output_type": "execute_result"
    }
   ],
   "source": [
    "len(my_dict[\"country2\"])"
   ]
  },
  {
   "cell_type": "code",
   "execution_count": 91,
   "id": "489aff56",
   "metadata": {},
   "outputs": [
    {
     "data": {
      "text/plain": [
       "7"
      ]
     },
     "execution_count": 91,
     "metadata": {},
     "output_type": "execute_result"
    }
   ],
   "source": [
    "# Will you be able to pull this off?\n",
    "len(my_dict[\"country1\"][\"city2\"])"
   ]
  },
  {
   "cell_type": "markdown",
   "id": "6c3de449",
   "metadata": {},
   "source": [
    "### The `in` operator"
   ]
  },
  {
   "cell_type": "code",
   "execution_count": null,
   "id": "848ef283",
   "metadata": {},
   "outputs": [],
   "source": [
    "queue = [\"Sam\", \"Tom\", \"Paul\"]"
   ]
  },
  {
   "cell_type": "code",
   "execution_count": 92,
   "id": "140021bb",
   "metadata": {},
   "outputs": [
    {
     "data": {
      "text/plain": [
       "True"
      ]
     },
     "execution_count": 92,
     "metadata": {},
     "output_type": "execute_result"
    }
   ],
   "source": [
    "\"Tom\" in queue"
   ]
  },
  {
   "cell_type": "code",
   "execution_count": 93,
   "id": "c0e42b72",
   "metadata": {},
   "outputs": [
    {
     "data": {
      "text/plain": [
       "False"
      ]
     },
     "execution_count": 93,
     "metadata": {},
     "output_type": "execute_result"
    }
   ],
   "source": [
    "\"Tom\" not in queue"
   ]
  },
  {
   "cell_type": "code",
   "execution_count": 94,
   "id": "f3e82602",
   "metadata": {},
   "outputs": [],
   "source": [
    "bt_phone_book = {\"Tom\": '013253434',\n",
    "                \"Mary\": '734246344',\n",
    "                \"Rebecca\": '533159372'}"
   ]
  },
  {
   "cell_type": "code",
   "execution_count": 95,
   "id": "5e62f3e8",
   "metadata": {},
   "outputs": [
    {
     "data": {
      "text/plain": [
       "True"
      ]
     },
     "execution_count": 95,
     "metadata": {},
     "output_type": "execute_result"
    }
   ],
   "source": [
    "\"Mary\" in bt_phone_book"
   ]
  },
  {
   "cell_type": "code",
   "execution_count": 96,
   "id": "8d5bfd5e",
   "metadata": {},
   "outputs": [
    {
     "data": {
      "text/plain": [
       "False"
      ]
     },
     "execution_count": 96,
     "metadata": {},
     "output_type": "execute_result"
    }
   ],
   "source": [
    "\"Mary\" in bt_phone_book.values()"
   ]
  },
  {
   "cell_type": "code",
   "execution_count": null,
   "id": "1692127d",
   "metadata": {},
   "outputs": [],
   "source": [
    "(\"Mary\", '734246344') in bt_phone_book.items()"
   ]
  },
  {
   "cell_type": "markdown",
   "id": "dabc3aea",
   "metadata": {},
   "source": [
    "---"
   ]
  },
  {
   "cell_type": "markdown",
   "id": "8b3dbbb3",
   "metadata": {},
   "source": [
    "# Conditionals and comparisons"
   ]
  },
  {
   "cell_type": "markdown",
   "id": "f6d38cfb",
   "metadata": {},
   "source": [
    "We have six comparison operators in Python:"
   ]
  },
  {
   "cell_type": "markdown",
   "id": "4dbe8da7",
   "metadata": {},
   "source": [
    "|Operator|Meaning|\n",
    "|---|---|\n",
    "|>| greater than|\n",
    "|<| smaller than|\n",
    "|>=| greater than or equal to|\n",
    "|<=| smaller than or equal to|\n",
    "|**==**| is equal|\n",
    "|!=| is not equal|"
   ]
  },
  {
   "cell_type": "markdown",
   "id": "c2b50f17",
   "metadata": {},
   "source": [
    "**Each comparison results in a boolean True or False, so it gives us a boolean values**.\n",
    "\n",
    "We use `if`, `else` and `elif` for complex comparison logic. **indentation is key to know which code lines belong under which condition expression!**"
   ]
  },
  {
   "cell_type": "code",
   "execution_count": 98,
   "id": "95ad0317",
   "metadata": {},
   "outputs": [
    {
     "name": "stdout",
     "output_type": "stream",
     "text": [
      "value 0 is zero.\n",
      "Meh .\n"
     ]
    }
   ],
   "source": [
    "var = 0\n",
    "if var > 0:\n",
    "    print(f\"value {var} is positive!\")\n",
    "    var2 = \"Yes!\"\n",
    "elif var < 0:\n",
    "    print(f\"value {var} is negative!\")\n",
    "    var2 = \"No!\"\n",
    "else:\n",
    "    print(f\"value {var} is zero.\")\n",
    "    var2 = \"Meh\"\n",
    "print(var2, \".\")"
   ]
  },
  {
   "cell_type": "code",
   "execution_count": 97,
   "id": "88a2abf0",
   "metadata": {},
   "outputs": [
    {
     "name": "stdout",
     "output_type": "stream",
     "text": [
      "School is good\n"
     ]
    }
   ],
   "source": [
    "if 2 < 3 < 4 < 5:\n",
    "    print(\"School is good\")\n",
    "else:\n",
    "    print(\"They lied to us!\")"
   ]
  },
  {
   "cell_type": "code",
   "execution_count": null,
   "id": "8b911ec0",
   "metadata": {},
   "outputs": [],
   "source": [
    "if 'a' >= 'Z'.lower():\n",
    "    print(\"hello\")\n",
    "elif 'a' < 'z':\n",
    "    print(\"bye\")"
   ]
  },
  {
   "cell_type": "code",
   "execution_count": 99,
   "id": "e1fc5b96",
   "metadata": {},
   "outputs": [
    {
     "name": "stdout",
     "output_type": "stream",
     "text": [
      "5 is not zilch at the end.\n"
     ]
    }
   ],
   "source": [
    "var = 5\n",
    "\n",
    "if var == 0:\n",
    "    print(f\"This var is absolutely zero, and it's value is {var}\")\n",
    "elif var != 0:\n",
    "    print(f\"{var} is not zilch at the end.\")"
   ]
  },
  {
   "cell_type": "code",
   "execution_count": 100,
   "id": "89a27234",
   "metadata": {},
   "outputs": [
    {
     "name": "stdout",
     "output_type": "stream",
     "text": [
      "bye\n"
     ]
    }
   ],
   "source": [
    "if False == 1:\n",
    "    print(\"hello\")\n",
    "elif False != 1:\n",
    "    print(\"bye\")"
   ]
  },
  {
   "cell_type": "markdown",
   "id": "06ad6c65",
   "metadata": {},
   "source": [
    "## Taking it to the next level: `or`, `and` and `not`"
   ]
  },
  {
   "cell_type": "markdown",
   "id": "0759f307",
   "metadata": {},
   "source": [
    "`or`, `not` and `and` can be used to make complex comparisons like this:"
   ]
  },
  {
   "cell_type": "code",
   "execution_count": null,
   "id": "d250d534",
   "metadata": {},
   "outputs": [],
   "source": [
    "check = (2 + 2 == 4) and (5 * 5 == 25) and not (5 + 2 == 7)\n",
    "if check:\n",
    "    print(\"hello\")\n",
    "else:\n",
    "    print(\"bye\")"
   ]
  },
  {
   "cell_type": "code",
   "execution_count": 102,
   "id": "47992020",
   "metadata": {},
   "outputs": [],
   "source": [
    "raining = True\n",
    "windy = False\n",
    "warm = True"
   ]
  },
  {
   "cell_type": "code",
   "execution_count": 103,
   "id": "2e6acbdf",
   "metadata": {},
   "outputs": [],
   "source": [
    "play_outside = None"
   ]
  },
  {
   "cell_type": "code",
   "execution_count": 104,
   "id": "13cfaecb",
   "metadata": {},
   "outputs": [
    {
     "name": "stdout",
     "output_type": "stream",
     "text": [
      "Play outside: True\n"
     ]
    }
   ],
   "source": [
    "if warm or not raining:\n",
    "    play_outside = True\n",
    "elif raining and windy:\n",
    "    play_outside = False\n",
    "elif warm and not windy:\n",
    "    play_outside = True\n",
    "\n",
    "print(f\"Play outside: {play_outside}\")"
   ]
  },
  {
   "cell_type": "markdown",
   "id": "95a62fa0",
   "metadata": {},
   "source": [
    "What if a variable is unknown?"
   ]
  },
  {
   "cell_type": "code",
   "execution_count": null,
   "id": "d5c12176",
   "metadata": {},
   "outputs": [],
   "source": [
    "var1 = None\n",
    "var2 = None\n",
    "\n",
    "if var1 == var2:\n",
    "    print(\"zero\")\n",
    "elif var1 != var2:\n",
    "    print(\"not zero\")"
   ]
  },
  {
   "cell_type": "markdown",
   "id": "c77cbc21",
   "metadata": {},
   "source": [
    "However, it is **always recommended** to use `is` when comparing to `None` because `None` is \"unknown\"/\"unassigned\""
   ]
  },
  {
   "cell_type": "code",
   "execution_count": null,
   "id": "6ed9219f",
   "metadata": {},
   "outputs": [],
   "source": [
    "if var1 is var2:\n",
    "    print(\"zero\")\n",
    "else:\n",
    "    print(\"not zero\")"
   ]
  },
  {
   "cell_type": "code",
   "execution_count": null,
   "id": "b913c817",
   "metadata": {},
   "outputs": [],
   "source": [
    "x = 0\n",
    "\n",
    "if x:\n",
    "    print(\"it is defined\")\n",
    "else:\n",
    "    print(\"it is not defined\")"
   ]
  },
  {
   "cell_type": "markdown",
   "id": "d8999e64",
   "metadata": {},
   "source": [
    "---"
   ]
  },
  {
   "cell_type": "markdown",
   "id": "2ea93140",
   "metadata": {},
   "source": [
    "# Loops"
   ]
  },
  {
   "cell_type": "markdown",
   "id": "21684db2",
   "metadata": {},
   "source": [
    "Let's try to print the names of people standing at the till:"
   ]
  },
  {
   "cell_type": "code",
   "execution_count": 106,
   "id": "14f46f0f",
   "metadata": {},
   "outputs": [
    {
     "name": "stdout",
     "output_type": "stream",
     "text": [
      "Tom\n",
      "John\n",
      "Peter\n",
      "Luke\n",
      "Sam\n"
     ]
    }
   ],
   "source": [
    "queue = [\"Tom\", \"John\", \"Peter\", \"Luke\", \"Sam\"]\n",
    "# Print all elements\n",
    "print(queue[0])\n",
    "print(queue[1])\n",
    "print(queue[2])\n",
    "print(queue[3])\n",
    "print(queue[4])"
   ]
  },
  {
   "cell_type": "markdown",
   "id": "f1448544",
   "metadata": {},
   "source": [
    "Imagine that we have 100 customers...\n",
    "\n",
    "For tasks than need repetition, like going over a list or data, we should use loops. Loops are dynamic and convenient.\n",
    "\n",
    "We have two kinds of loops in Python:\n",
    "- `for` loops\n",
    "- `while` loops"
   ]
  },
  {
   "cell_type": "code",
   "execution_count": 107,
   "id": "3ab98d9e",
   "metadata": {},
   "outputs": [
    {
     "name": "stdout",
     "output_type": "stream",
     "text": [
      "Tom\n",
      "John\n",
      "Peter\n",
      "Luke\n",
      "Sam\n"
     ]
    }
   ],
   "source": [
    "for element in queue:\n",
    "    print(element)\n"
   ]
  },
  {
   "cell_type": "markdown",
   "id": "531413e7",
   "metadata": {},
   "source": [
    "We can enumerate the loops, or number them and maybe use these numbers if they are meaningful to us, with `enumerate`:"
   ]
  },
  {
   "cell_type": "code",
   "execution_count": 108,
   "id": "23300841",
   "metadata": {},
   "outputs": [
    {
     "name": "stdout",
     "output_type": "stream",
     "text": [
      "0 - Tom\n",
      "1 - John\n",
      "2 - Peter\n",
      "3 - Luke\n",
      "4 - Sam\n"
     ]
    }
   ],
   "source": [
    "for turn, customer in enumerate(queue):\n",
    "    print(f\"{turn} - {customer}\")"
   ]
  },
  {
   "cell_type": "code",
   "execution_count": 109,
   "id": "c06ef723",
   "metadata": {},
   "outputs": [
    {
     "name": "stdout",
     "output_type": "stream",
     "text": [
      "# 1 - Tom\n",
      "# 2 - John\n",
      "# 3 - Peter\n",
      "# 4 - Luke\n",
      "# 5 - Sam\n"
     ]
    }
   ],
   "source": [
    "for turn, customer in enumerate(queue):\n",
    "    print(f\"# {turn+1} - {customer}\")"
   ]
  },
  {
   "cell_type": "markdown",
   "id": "a47f8170",
   "metadata": {},
   "source": [
    "**For (and while) loops can iterate over *iterable* objects**, i.e. they need to have elements to return one at a time.\n",
    "How about this?"
   ]
  },
  {
   "cell_type": "code",
   "execution_count": 110,
   "id": "73bbb227",
   "metadata": {},
   "outputs": [
    {
     "name": "stdout",
     "output_type": "stream",
     "text": [
      "a\n",
      "b\n",
      "c\n",
      "d\n",
      "e\n",
      "f\n",
      "g\n"
     ]
    }
   ],
   "source": [
    "for letter in \"ABCDEFG\".lower():\n",
    "    print(letter)"
   ]
  },
  {
   "cell_type": "code",
   "execution_count": 111,
   "id": "e662c7e0",
   "metadata": {},
   "outputs": [
    {
     "name": "stdout",
     "output_type": "stream",
     "text": [
      "2\n",
      "<class 'str'>\n",
      "3\n",
      "<class 'str'>\n",
      "7\n",
      "<class 'str'>\n",
      "6\n",
      "<class 'str'>\n"
     ]
    }
   ],
   "source": [
    "for number in \"2376\":\n",
    "    print(number)\n",
    "    print(type(number))"
   ]
  },
  {
   "cell_type": "code",
   "execution_count": 113,
   "id": "9fb120cb",
   "metadata": {},
   "outputs": [
    {
     "name": "stdout",
     "output_type": "stream",
     "text": [
      "3\n",
      "4\n",
      "5\n"
     ]
    }
   ],
   "source": [
    "for counter in range(3, 6):\n",
    "    print(counter)"
   ]
  },
  {
   "cell_type": "code",
   "execution_count": 114,
   "id": "e8b842ac",
   "metadata": {},
   "outputs": [
    {
     "ename": "TypeError",
     "evalue": "'int' object is not iterable",
     "output_type": "error",
     "traceback": [
      "\u001b[1;31m---------------------------------------------------------------------------\u001b[0m",
      "\u001b[1;31mTypeError\u001b[0m                                 Traceback (most recent call last)",
      "Input \u001b[1;32mIn [114]\u001b[0m, in \u001b[0;36m<cell line: 1>\u001b[1;34m()\u001b[0m\n\u001b[1;32m----> 1\u001b[0m \u001b[38;5;28;01mfor\u001b[39;00m element \u001b[38;5;129;01min\u001b[39;00m \u001b[38;5;241m3\u001b[39m:\n\u001b[0;32m      2\u001b[0m     \u001b[38;5;28mprint\u001b[39m(element)\n",
      "\u001b[1;31mTypeError\u001b[0m: 'int' object is not iterable"
     ]
    }
   ],
   "source": [
    "for element in 3:\n",
    "    print(element)"
   ]
  },
  {
   "cell_type": "code",
   "execution_count": 115,
   "id": "6792bd39",
   "metadata": {},
   "outputs": [
    {
     "data": {
      "text/plain": [
       "[[1, 2, 3], [4, 5, 6], [7, 8, 9]]"
      ]
     },
     "execution_count": 115,
     "metadata": {},
     "output_type": "execute_result"
    }
   ],
   "source": [
    "matrix = [[1, 2, 3],\n",
    "         [4, 5, 6],\n",
    "         [7, 8, 9]]\n",
    "matrix"
   ]
  },
  {
   "cell_type": "code",
   "execution_count": 116,
   "id": "79f6b132",
   "metadata": {},
   "outputs": [
    {
     "name": "stdout",
     "output_type": "stream",
     "text": [
      "row 0:[1, 2, 3]\n",
      "row 1:[4, 5, 6]\n",
      "row 2:[7, 8, 9]\n"
     ]
    }
   ],
   "source": [
    "for r, element in enumerate(matrix):\n",
    "    print(f\"row {r}:{element}\")"
   ]
  },
  {
   "cell_type": "code",
   "execution_count": 124,
   "id": "33860606",
   "metadata": {},
   "outputs": [
    {
     "name": "stdout",
     "output_type": "stream",
     "text": [
      "[3, 4]\n",
      "3\n",
      "4\n",
      "[5, 2, 1]\n",
      "5\n",
      "2\n",
      "1\n",
      "[1]\n",
      "1\n"
     ]
    }
   ],
   "source": [
    "lst = [[3, 4], [5, 2, 1], [1]]\n",
    "\n",
    "for nds in lst:\n",
    "    print(nds)\n",
    "    for i in nds:\n",
    "        print(i)"
   ]
  },
  {
   "cell_type": "code",
   "execution_count": 117,
   "id": "a6b06053",
   "metadata": {},
   "outputs": [
    {
     "name": "stdout",
     "output_type": "stream",
     "text": [
      "row0, column0: 1\n",
      "row0, column1: 2\n",
      "row0, column2: 3\n",
      "row1, column0: 4\n",
      "row1, column1: 5\n",
      "row1, column2: 6\n",
      "row2, column0: 7\n",
      "row2, column1: 8\n",
      "row2, column2: 9\n"
     ]
    }
   ],
   "source": [
    "for r, row in enumerate(matrix):\n",
    "    for c, column in enumerate(row):\n",
    "        print(f\"row{r}, column{c}: {matrix[r][c]}\")"
   ]
  },
  {
   "cell_type": "markdown",
   "id": "27c310fb",
   "metadata": {},
   "source": [
    "If I don't know how many times to iterate, or my loop depends on a guarding condition like user input, `while` can be used:"
   ]
  },
  {
   "cell_type": "code",
   "execution_count": 118,
   "id": "8f400240",
   "metadata": {
    "scrolled": false
   },
   "outputs": [
    {
     "name": "stdout",
     "output_type": "stream",
     "text": [
      "0\n",
      "1\n",
      "2\n",
      "3\n",
      "4\n",
      "5\n"
     ]
    }
   ],
   "source": [
    "end = 6\n",
    "counter = 0\n",
    "while counter < end:\n",
    "    print(counter)\n",
    "    counter += 1"
   ]
  },
  {
   "cell_type": "code",
   "execution_count": null,
   "id": "ffdc133f",
   "metadata": {},
   "outputs": [],
   "source": [
    "search = [\"innocent\", \"innocent\", \"guilty\", \"innocent\", \"innocent\"]*100\n",
    "search"
   ]
  },
  {
   "cell_type": "code",
   "execution_count": null,
   "id": "567befaa",
   "metadata": {},
   "outputs": [],
   "source": [
    "i = 0\n",
    "while i < len(search) and search[i] != \"guilty\":\n",
    "    print(search[i])\n",
    "    i += 1"
   ]
  },
  {
   "cell_type": "code",
   "execution_count": null,
   "id": "611dc426",
   "metadata": {},
   "outputs": [],
   "source": [
    "num = 0\n",
    "while num != -1:\n",
    "    num = int(input(\"Enter a number to get its exponential! If you want to quite, enter -1.\\n► \"))\n",
    "    print(f\"{num}^2 = {num**2}\")\n",
    "print(\"Bye!\")"
   ]
  },
  {
   "cell_type": "markdown",
   "id": "754796ac",
   "metadata": {},
   "source": [
    "## `break` and `continue`"
   ]
  },
  {
   "cell_type": "markdown",
   "id": "3b810c68",
   "metadata": {},
   "source": [
    "`break` and `continue` are very handful for finely managing loops and enhancing the efficiency (speed and resilence to errors for example).\n",
    "\n",
    "- `break`: breaks the current loop and gets out of it to continue executing **what comes after the loop**\n",
    "- `continue`: skips the current iteration or the loop and goes to the next **iteration** if any"
   ]
  },
  {
   "cell_type": "code",
   "execution_count": null,
   "id": "14cfd368",
   "metadata": {},
   "outputs": [],
   "source": [
    "search = [\"guilty\", \"innocent\", \"innocent\", \"guilty\", \"innocent\", \"innocent\"]*100\n",
    "search"
   ]
  },
  {
   "cell_type": "code",
   "execution_count": null,
   "id": "fdefcdde",
   "metadata": {},
   "outputs": [],
   "source": [
    "# Find if the list contains an innocent:\n",
    "has_innocents = False\n",
    "iterations_run = 0\n",
    "\n",
    "for case in search:\n",
    "#     iterations_run += 1\n",
    "    iterations_run = iterations_run + 1\n",
    "    if case == \"innocent\":\n",
    "        has_innocents = True\n",
    "print(f\"Innocents found is {has_innocents} in {iterations_run} iterations.\")"
   ]
  },
  {
   "cell_type": "code",
   "execution_count": null,
   "id": "bfaf4bb5",
   "metadata": {},
   "outputs": [],
   "source": [
    "# Find if the list contains an innocent:\n",
    "has_innocents = False\n",
    "iterations_run = 0\n",
    "\n",
    "for case in search:\n",
    "    iterations_run += 1\n",
    "    if case == \"innocent\":\n",
    "        has_innocents = True\n",
    "        break\n",
    "print(f\"Innocents found is {has_innocents} in {iterations_run} iterations.\")"
   ]
  },
  {
   "cell_type": "code",
   "execution_count": null,
   "id": "f9c2e2fb",
   "metadata": {},
   "outputs": [],
   "source": [
    "data = [\"Falk\", \"Kim\", \"Uli\", None, \"Dani\", \"Charlie\", None]\n",
    "for name in data:\n",
    "    print(f\"{name} is {len(name)} characters long.\")"
   ]
  },
  {
   "cell_type": "code",
   "execution_count": null,
   "id": "2ce28b64",
   "metadata": {},
   "outputs": [],
   "source": [
    "for name in data:\n",
    "    if name is None:\n",
    "        continue\n",
    "    print(f\"{name} is {len(name)} characters long.\")"
   ]
  },
  {
   "cell_type": "markdown",
   "id": "f6eac898",
   "metadata": {},
   "source": [
    "# List Comprehensions"
   ]
  },
  {
   "cell_type": "markdown",
   "id": "987d05d4",
   "metadata": {},
   "source": [
    "It is an advanced \"aesthetic\" concept, so understand loops perfectly before using these."
   ]
  },
  {
   "cell_type": "code",
   "execution_count": null,
   "id": "61819470",
   "metadata": {},
   "outputs": [],
   "source": [
    "nums = [1, 2, 3]\n",
    "doubles = []\n",
    "\n",
    "for num in nums:\n",
    "    doubles.append(num*2)\n",
    "\n",
    "doubles"
   ]
  },
  {
   "cell_type": "code",
   "execution_count": null,
   "id": "5cfbfcb3",
   "metadata": {},
   "outputs": [],
   "source": [
    "doubles = [num*2 for num in nums]\n",
    "doubles"
   ]
  },
  {
   "cell_type": "code",
   "execution_count": null,
   "id": "62e5efaf",
   "metadata": {},
   "outputs": [],
   "source": [
    "nums = [1, 2, 3, 4]\n",
    "even_doubles = []\n",
    "\n",
    "for num in nums:\n",
    "    if num % 2 == 0:\n",
    "        even_doubles.append(num*2)\n",
    "\n",
    "even_doubles"
   ]
  },
  {
   "cell_type": "code",
   "execution_count": null,
   "id": "552d4471",
   "metadata": {},
   "outputs": [],
   "source": [
    "even_doubles = [x*2 for x in nums if x%2 == 0]\n",
    "even_doubles"
   ]
  },
  {
   "cell_type": "markdown",
   "id": "3e36b8af",
   "metadata": {},
   "source": [
    "---"
   ]
  },
  {
   "cell_type": "markdown",
   "id": "5170fa4a",
   "metadata": {},
   "source": [
    "# I/O"
   ]
  },
  {
   "cell_type": "markdown",
   "id": "fa5de2c6",
   "metadata": {},
   "source": [
    "Let's look at a quich example to read a CSV file in a slightly different way.\n",
    "\n",
    "`Pandas` is amazing at doing so, but some I/O experience can come a long way."
   ]
  },
  {
   "cell_type": "code",
   "execution_count": null,
   "id": "6d51ab07",
   "metadata": {},
   "outputs": [],
   "source": [
    "import os\n",
    "os.getcwd()"
   ]
  },
  {
   "cell_type": "code",
   "execution_count": null,
   "id": "e8dddee3",
   "metadata": {},
   "outputs": [],
   "source": [
    "file_path = r\".\\resources\\titanic.csv\""
   ]
  },
  {
   "cell_type": "code",
   "execution_count": null,
   "id": "b829d1a9",
   "metadata": {},
   "outputs": [],
   "source": [
    "import csv\n",
    "from pprint import pprint\n",
    "\n",
    "file_handler = open(file_path, mode=\"r\")\n",
    "interpret_data = csv.DictReader(file_handler)\n",
    "for line in interpret_data:\n",
    "    pprint(line)\n",
    "\n",
    "# CRUCIAL!!\n",
    "file_handler.close()\n",
    "print(\"\\nIs the file closed properly??\", file_handler.closed)"
   ]
  },
  {
   "cell_type": "markdown",
   "id": "0c34c0fb",
   "metadata": {},
   "source": [
    "It is crucial to close the file! Safer is to use a **context manager** like `with`.\n",
    "\n",
    "They manage the memory and resources for you and they take care of cleaning the mess after their context ends; context = a block of code."
   ]
  },
  {
   "cell_type": "code",
   "execution_count": null,
   "id": "47e0a614",
   "metadata": {},
   "outputs": [],
   "source": [
    "with open(file_path, mode='r') as file_handler:\n",
    "    interpret_data = csv.DictReader(file_handler)\n",
    "    for line in interpret_data:\n",
    "        print(f\"{line['Name']}:\\t{line['Survived']}\")\n",
    "\n",
    "print(\"\\nIs the file closed properly??\", file_handler.closed)"
   ]
  },
  {
   "cell_type": "code",
   "execution_count": null,
   "id": "d9bed82b",
   "metadata": {},
   "outputs": [],
   "source": [
    "with open(file_path, mode='r') as file_handler:\n",
    "    interpret_data = csv.reader(file_handler)\n",
    "    # How many people do we have?\n",
    "    print(f\"We have {len(list(interpret_data))} people on the Titanic\")\n",
    "    \n",
    "    for line in interpret_data:\n",
    "        print(f\"{line['Name']}:\\t{line['Survived']}\")\n",
    "\n",
    "print(\"\\nIs the file closed properly??\", file_handler.closed)"
   ]
  },
  {
   "cell_type": "markdown",
   "id": "370ac7a9",
   "metadata": {},
   "source": [
    "---"
   ]
  },
  {
   "cell_type": "markdown",
   "id": "be65c659",
   "metadata": {},
   "source": [
    "# Functions: the lego pieces at last! define then with `def`"
   ]
  },
  {
   "cell_type": "markdown",
   "id": "91382a9c",
   "metadata": {},
   "source": [
    "You have all used them! `print()` is a function.\n",
    "\n",
    "A function has:\n",
    "- a name\n",
    "- some parameters if needed, can be mandatory or optional with default values\n",
    "- a return value: always, even `None`\n",
    "\n",
    "These three elements are sometimes known as **signatures**."
   ]
  },
  {
   "cell_type": "markdown",
   "id": "2433a4e2",
   "metadata": {},
   "source": [
    "Let's define a function that checks if a number is even? **note the indentation!!**"
   ]
  },
  {
   "cell_type": "code",
   "execution_count": null,
   "id": "d5c62f9d",
   "metadata": {},
   "outputs": [],
   "source": [
    "print(\"I am Good\")"
   ]
  },
  {
   "cell_type": "code",
   "execution_count": null,
   "id": "ed5507b6",
   "metadata": {},
   "outputs": [],
   "source": [
    "4 % 2 == 0"
   ]
  },
  {
   "cell_type": "code",
   "execution_count": null,
   "id": "d4571806",
   "metadata": {},
   "outputs": [],
   "source": [
    "def is_even(number):\n",
    "    check = (number % 2 == 0)\n",
    "    return(check)"
   ]
  },
  {
   "cell_type": "code",
   "execution_count": null,
   "id": "08994209",
   "metadata": {},
   "outputs": [],
   "source": [
    "is_even(3) # we call the function with the *argument* 3"
   ]
  },
  {
   "cell_type": "code",
   "execution_count": null,
   "id": "6d9171d0",
   "metadata": {},
   "outputs": [],
   "source": [
    "is_even(6)"
   ]
  },
  {
   "cell_type": "code",
   "execution_count": null,
   "id": "01564004",
   "metadata": {},
   "outputs": [],
   "source": [
    "type(is_even(6))"
   ]
  },
  {
   "cell_type": "code",
   "execution_count": null,
   "id": "10f1bd68",
   "metadata": {},
   "outputs": [],
   "source": [
    "even = is_even(6)\n",
    "even"
   ]
  },
  {
   "cell_type": "code",
   "execution_count": null,
   "id": "68bac178",
   "metadata": {},
   "outputs": [],
   "source": [
    "is_even()"
   ]
  },
  {
   "cell_type": "markdown",
   "id": "11e417f5",
   "metadata": {},
   "source": [
    "You can give your parameters default values so they will be optional."
   ]
  },
  {
   "cell_type": "code",
   "execution_count": null,
   "id": "b06f60a8",
   "metadata": {},
   "outputs": [],
   "source": [
    "def is_even(number = 0):\n",
    "    check = (number % 2 == 0)\n",
    "    return(check)"
   ]
  },
  {
   "cell_type": "code",
   "execution_count": null,
   "id": "7aedecc0",
   "metadata": {},
   "outputs": [],
   "source": [
    "is_even()"
   ]
  },
  {
   "cell_type": "markdown",
   "id": "82e6f86a",
   "metadata": {},
   "source": [
    "You can be explicit about the types of parameters."
   ]
  },
  {
   "cell_type": "code",
   "execution_count": null,
   "id": "d3209931",
   "metadata": {},
   "outputs": [],
   "source": [
    "is_even(\"r\")"
   ]
  },
  {
   "cell_type": "code",
   "execution_count": null,
   "id": "afe63953",
   "metadata": {},
   "outputs": [],
   "source": [
    "def is_even(number:int = 0):\n",
    "    check = (number % 2 == 0)\n",
    "    return(check)"
   ]
  },
  {
   "cell_type": "code",
   "execution_count": null,
   "id": "c2783d1b",
   "metadata": {},
   "outputs": [],
   "source": [
    "is_even(3.5)"
   ]
  },
  {
   "cell_type": "markdown",
   "id": "519432cc",
   "metadata": {},
   "source": [
    "Let's define a function that calculates the equation $f(x) = 5x + 3$"
   ]
  },
  {
   "cell_type": "code",
   "execution_count": null,
   "id": "59de4044",
   "metadata": {},
   "outputs": [],
   "source": [
    "def find(x:float = -1):\n",
    "    y = 5 *x + 3\n",
    "    return y"
   ]
  },
  {
   "cell_type": "code",
   "execution_count": null,
   "id": "0a8ba5dc",
   "metadata": {},
   "outputs": [],
   "source": [
    "find()"
   ]
  },
  {
   "cell_type": "code",
   "execution_count": null,
   "id": "1689ad69",
   "metadata": {},
   "outputs": [],
   "source": [
    "print(find(x=2))\n",
    "print(find(5))"
   ]
  },
  {
   "cell_type": "code",
   "execution_count": null,
   "id": "bdb467ec",
   "metadata": {},
   "outputs": [],
   "source": [
    "for x in range(3):\n",
    "    print(f\"x = {x} → y = {find(x)}\")"
   ]
  },
  {
   "cell_type": "markdown",
   "id": "f4a91c69",
   "metadata": {},
   "source": [
    "## Scope Caveats"
   ]
  },
  {
   "cell_type": "code",
   "execution_count": null,
   "id": "0650cd6b",
   "metadata": {},
   "outputs": [],
   "source": [
    "var = 0\n",
    "#..\n",
    "#..\n",
    "def fun():\n",
    "    print(f\"Hello from fun and var is {var}\")\n",
    "\n",
    "fun()\n",
    "var"
   ]
  },
  {
   "cell_type": "code",
   "execution_count": null,
   "id": "a4fbfd41",
   "metadata": {},
   "outputs": [],
   "source": [
    "var = 0\n",
    "#..\n",
    "#..\n",
    "def fun():\n",
    "    var = 2\n",
    "    print(f\"Hello from fun and var is {var}\")\n",
    "\n",
    "fun()\n",
    "var"
   ]
  },
  {
   "cell_type": "code",
   "execution_count": null,
   "id": "6c609324",
   "metadata": {},
   "outputs": [],
   "source": [
    "var = 0\n",
    "def fun():\n",
    "    global var\n",
    "    var = 2\n",
    "    print(f\"Hello from fun and var is {var}\")\n",
    "\n",
    "fun()\n",
    "var"
   ]
  },
  {
   "cell_type": "code",
   "execution_count": null,
   "id": "965940da",
   "metadata": {},
   "outputs": [],
   "source": [
    "var = 0\n",
    "def fun(myvar):\n",
    "    myvar = 2\n",
    "    print(f\"Hello from fun and var is {myvar}\")\n",
    "\n",
    "fun(myvar=var)\n",
    "var"
   ]
  },
  {
   "cell_type": "code",
   "execution_count": null,
   "id": "03f18d2d",
   "metadata": {
    "scrolled": true
   },
   "outputs": [],
   "source": [
    "def fun():\n",
    "    var2 = 2\n",
    "    print(f\"Hello from fun and var2 is {var2}\")\n",
    "\n",
    "fun()\n",
    "print(var2)"
   ]
  },
  {
   "cell_type": "markdown",
   "id": "701fd234",
   "metadata": {},
   "source": [
    "## `pass` for placeholder functions"
   ]
  },
  {
   "cell_type": "code",
   "execution_count": null,
   "id": "64c636ab",
   "metadata": {},
   "outputs": [],
   "source": [
    "# I need to clean my fridge, so I need these functions and I will develop them later\n",
    "\n",
    "def check_dirtiness():\n",
    "    #d fsds \n",
    "    pass\n",
    "\n",
    "def clean_shelve():\n",
    "    pass\n",
    "\n",
    "def test_fridge():\n",
    "    pass\n"
   ]
  },
  {
   "cell_type": "markdown",
   "id": "5ca208aa",
   "metadata": {},
   "source": [
    "Can we use a function inside a function??"
   ]
  },
  {
   "cell_type": "markdown",
   "id": "8994b81d",
   "metadata": {},
   "source": [
    "---"
   ]
  }
 ],
 "metadata": {
  "kernelspec": {
   "display_name": "Python 3 (ipykernel)",
   "language": "python",
   "name": "python3"
  },
  "language_info": {
   "codemirror_mode": {
    "name": "ipython",
    "version": 3
   },
   "file_extension": ".py",
   "mimetype": "text/x-python",
   "name": "python",
   "nbconvert_exporter": "python",
   "pygments_lexer": "ipython3",
   "version": "3.10.4"
  }
 },
 "nbformat": 4,
 "nbformat_minor": 5
}
