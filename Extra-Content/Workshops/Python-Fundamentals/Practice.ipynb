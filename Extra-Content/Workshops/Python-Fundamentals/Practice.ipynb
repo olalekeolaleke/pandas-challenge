{
 "cells": [
  {
   "cell_type": "markdown",
   "id": "a73b7590",
   "metadata": {},
   "source": [
    "# Python Fundamentals Workshop Practice"
   ]
  },
  {
   "cell_type": "markdown",
   "id": "b03700c0",
   "metadata": {},
   "source": [
    "Please complete the following programming and debugging tasks during the workshop, one at a time. Reach out to the online tutor in case you have problems.\n",
    "\n",
    "- Each code snippet should execute without any errors, sometimes with a pass message, and produce the desired result\n",
    "- Carefully read the errors to fix the bugs.\n",
    "- Please ignore the `assert` statements if any, they are just automatic grading."
   ]
  },
  {
   "cell_type": "markdown",
   "id": "3f44da89",
   "metadata": {},
   "source": [
    "# Fix Me Please"
   ]
  },
  {
   "cell_type": "code",
   "execution_count": 2,
   "id": "3cde3b51",
   "metadata": {},
   "outputs": [
    {
     "name": "stdout",
     "output_type": "stream",
     "text": [
      "10\n"
     ]
    }
   ],
   "source": [
    "my_var = 10\n",
    "print(my_var)"
   ]
  },
  {
   "cell_type": "code",
   "execution_count": 3,
   "id": "c359a54c",
   "metadata": {},
   "outputs": [
    {
     "name": "stdout",
     "output_type": "stream",
     "text": [
      "Hello\n"
     ]
    }
   ],
   "source": [
    "second_var = \"Hello\"\n",
    "print(second_var)"
   ]
  },
  {
   "cell_type": "code",
   "execution_count": 6,
   "id": "192db20d",
   "metadata": {},
   "outputs": [
    {
     "name": "stdout",
     "output_type": "stream",
     "text": [
      "15\n"
     ]
    }
   ],
   "source": [
    "My_var = 15\n",
    "\n",
    "print(My_var)"
   ]
  },
  {
   "cell_type": "code",
   "execution_count": 9,
   "id": "9a93d46b",
   "metadata": {},
   "outputs": [
    {
     "name": "stdout",
     "output_type": "stream",
     "text": [
      "12.2\n",
      "pass! well done!\n"
     ]
    }
   ],
   "source": [
    "average = (4 + 6 + 7 + 33 + 11) / 5\n",
    "print(average)\n",
    "assert average == 12.2, \"wrong result! try again\"\n",
    "print(\"pass! well done!\")"
   ]
  },
  {
   "cell_type": "code",
   "execution_count": 11,
   "id": "b2ab8913",
   "metadata": {},
   "outputs": [
    {
     "name": "stdout",
     "output_type": "stream",
     "text": [
      "pass! well done!\n"
     ]
    }
   ],
   "source": [
    "message = f\"The average is {average}\"\n",
    "\n",
    "assert message == \"The average is 12.2\", \"wrong result! try again\"\n",
    "print(\"pass! well done!\")"
   ]
  },
  {
   "cell_type": "code",
   "execution_count": 13,
   "id": "48a0ac15",
   "metadata": {},
   "outputs": [
    {
     "name": "stdout",
     "output_type": "stream",
     "text": [
      "pass! well done!\n"
     ]
    }
   ],
   "source": [
    "# Convert the average to integer\n",
    "average = int(average)\n",
    "\n",
    "assert isinstance(average, int), \"wrong result! try again\"\n",
    "print(\"pass! well done!\")"
   ]
  },
  {
   "cell_type": "code",
   "execution_count": 15,
   "id": "55d138bb",
   "metadata": {},
   "outputs": [
    {
     "name": "stdout",
     "output_type": "stream",
     "text": [
      "333\n",
      "pass! well done!\n"
     ]
    }
   ],
   "source": [
    "# Change the definition of x to produce \"333\" in y?\n",
    "x = '3'\n",
    "y = x*3\n",
    "print(y)\n",
    "assert y == \"333\", \"wrong result! try again\"\n",
    "print(\"pass! well done!\")"
   ]
  },
  {
   "cell_type": "code",
   "execution_count": 18,
   "id": "2b0353ff",
   "metadata": {},
   "outputs": [
    {
     "name": "stdout",
     "output_type": "stream",
     "text": [
      "pass! well done!\n"
     ]
    }
   ],
   "source": [
    "# We want to distribute orphans over adopting families, but we cannot divide an orphan\n",
    "# i.e. we cannot have fractions in the result!\n",
    "# Fix what's necessary here to do so in two ways: way 1- using operators\n",
    "families = \"25\"\n",
    "orphans = \"121\"\n",
    "orphan_for_family = int(orphans) // int(families)\n",
    "\n",
    "assert orphan_for_family == 4, \"wrong result! try again\"\n",
    "print(\"pass! well done!\")"
   ]
  },
  {
   "cell_type": "code",
   "execution_count": null,
   "id": "15d6a135",
   "metadata": {},
   "outputs": [],
   "source": [
    "# We want to distribute orphans over adopting families, but we cannot divide an orphan\n",
    "# i.e. we cannot have fractions in the result!\n",
    "# Fix what's necessary here to do so in two ways: way 2 - manipulating data types\n",
    "families = \"25\"\n",
    "orphans = \"121\"\n",
    "orphan_for_family = orphans / families\n",
    "\n",
    "assert orphan_for_family == 4, \"wrong result! try again\"\n",
    "print(\"pass! well done!\")"
   ]
  },
  {
   "cell_type": "code",
   "execution_count": 26,
   "id": "c5a09be6",
   "metadata": {
    "scrolled": true
   },
   "outputs": [
    {
     "ename": "AssertionError",
     "evalue": "wrong result! try again",
     "output_type": "error",
     "traceback": [
      "\u001b[1;31m---------------------------------------------------------------------------\u001b[0m",
      "\u001b[1;31mAssertionError\u001b[0m                            Traceback (most recent call last)",
      "Input \u001b[1;32mIn [26]\u001b[0m, in \u001b[0;36m<cell line: 4>\u001b[1;34m()\u001b[0m\n\u001b[0;32m      1\u001b[0m \u001b[38;5;66;03m# Create a list from a range from 1 to 10 inclusive, using range()\u001b[39;00m\n\u001b[0;32m      2\u001b[0m my_list \u001b[38;5;241m=\u001b[39m \u001b[38;5;28mrange\u001b[39m(\u001b[38;5;241m1\u001b[39m, \u001b[38;5;241m11\u001b[39m)\n\u001b[1;32m----> 4\u001b[0m \u001b[38;5;28;01massert\u001b[39;00m my_list \u001b[38;5;241m==\u001b[39m [\u001b[38;5;241m1\u001b[39m, \u001b[38;5;241m2\u001b[39m, \u001b[38;5;241m3\u001b[39m, \u001b[38;5;241m4\u001b[39m, \u001b[38;5;241m5\u001b[39m ,\u001b[38;5;241m6\u001b[39m ,\u001b[38;5;241m7\u001b[39m ,\u001b[38;5;241m8\u001b[39m ,\u001b[38;5;241m9\u001b[39m, \u001b[38;5;241m10\u001b[39m], \u001b[38;5;124m\"\u001b[39m\u001b[38;5;124mwrong result! try again\u001b[39m\u001b[38;5;124m\"\u001b[39m\n\u001b[0;32m      5\u001b[0m \u001b[38;5;28mprint\u001b[39m(\u001b[38;5;124m\"\u001b[39m\u001b[38;5;124mpass! well done!\u001b[39m\u001b[38;5;124m\"\u001b[39m)\n",
      "\u001b[1;31mAssertionError\u001b[0m: wrong result! try again"
     ]
    }
   ],
   "source": [
    "# Create a list from a range from 1 to 10 inclusive, using range()\n",
    "my_list = range(1, 11)\n",
    "\n",
    "assert my_list == [1, 2, 3, 4, 5 ,6 ,7 ,8 ,9, 10], \"wrong result! try again\"\n",
    "print(\"pass! well done!\")\n"
   ]
  },
  {
   "cell_type": "code",
   "execution_count": 27,
   "id": "1470b536",
   "metadata": {},
   "outputs": [
    {
     "data": {
      "text/plain": [
       "range(1, 11)"
      ]
     },
     "execution_count": 27,
     "metadata": {},
     "output_type": "execute_result"
    }
   ],
   "source": [
    "my_list"
   ]
  },
  {
   "cell_type": "code",
   "execution_count": 25,
   "id": "fefcb3fe",
   "metadata": {},
   "outputs": [
    {
     "name": "stdout",
     "output_type": "stream",
     "text": [
      "1\n",
      "2\n",
      "3\n",
      "4\n",
      "5\n",
      "6\n",
      "7\n",
      "8\n",
      "9\n"
     ]
    }
   ],
   "source": [
    "for i in range(1, 10):\n",
    "    print(i)"
   ]
  },
  {
   "cell_type": "code",
   "execution_count": null,
   "id": "e099693d",
   "metadata": {},
   "outputs": [],
   "source": [
    "# Save all the even numbers in my_list using a for loop\n",
    "# Hint: even numbers have a 0 modulo over 2\n",
    "even = []\n",
    "for ? in my_list :\n",
    "    \n",
    "\n",
    "assert even == [2, 4, 6, 8, 10], \"wrong result! try again\"\n",
    "print(\"pass! well done!\")"
   ]
  },
  {
   "cell_type": "code",
   "execution_count": null,
   "id": "1def23d1",
   "metadata": {},
   "outputs": [],
   "source": [
    "# Do the same with list comprehensions?\n",
    "even = []\n",
    "\n",
    "assert even == [2, 4, 6, 8, 10], \"wrong result! try again\"\n",
    "print(\"pass! well done!\")"
   ]
  },
  {
   "cell_type": "markdown",
   "id": "b53f664f",
   "metadata": {},
   "source": [
    "# What Will I Print and Why?"
   ]
  },
  {
   "cell_type": "markdown",
   "id": "b8675c5d",
   "metadata": {},
   "source": [
    "Please insert your answers in the empty cells **before running the cell above!**"
   ]
  },
  {
   "cell_type": "code",
   "execution_count": null,
   "id": "2dfab6d8",
   "metadata": {},
   "outputs": [],
   "source": [
    "array = [1, \"2\", 3.0, 4, 2 > 4]\n",
    "for element in array:\n",
    "    print(type(element)==int)"
   ]
  },
  {
   "cell_type": "markdown",
   "id": "708c5e18",
   "metadata": {},
   "source": []
  },
  {
   "cell_type": "code",
   "execution_count": null,
   "id": "466244db",
   "metadata": {},
   "outputs": [],
   "source": [
    "array = [1, \"2\", 3.0, 4, 2 > 4]\n",
    "for element in array:\n",
    "    if isinstance(element, bool):\n",
    "        continue\n",
    "    print(element)"
   ]
  },
  {
   "cell_type": "markdown",
   "id": "72d90f65",
   "metadata": {},
   "source": []
  },
  {
   "cell_type": "markdown",
   "id": "e3ed00fd",
   "metadata": {},
   "source": [
    "# Advanced Coding"
   ]
  },
  {
   "cell_type": "code",
   "execution_count": null,
   "id": "483537d4",
   "metadata": {},
   "outputs": [],
   "source": [
    "# Convert the following While loop to a for, to print the same output, using break statement\n",
    "data = list(range(1, 15))\n",
    "i = 0\n",
    "\n",
    "while i < len(data) / 2:\n",
    "    print(data[i])\n",
    "    i += 1"
   ]
  },
  {
   "cell_type": "code",
   "execution_count": null,
   "id": "f0b75286",
   "metadata": {},
   "outputs": [],
   "source": [
    "# Insert code here\n",
    "data = list(range(1, 15))\n",
    "for ? in ?:\n",
    "    "
   ]
  },
  {
   "cell_type": "markdown",
   "id": "0910e2ed",
   "metadata": {},
   "source": [
    "# Additional Practice?"
   ]
  },
  {
   "cell_type": "markdown",
   "id": "a4e03ed7",
   "metadata": {},
   "source": [
    "## Create a function that takes the path of a CSV file and returns the contents in a list using a context manager?"
   ]
  },
  {
   "cell_type": "code",
   "execution_count": null,
   "id": "fad8d715",
   "metadata": {},
   "outputs": [],
   "source": [
    "import csv\n",
    "\n",
    "file_path = r\".\\resources\\play_tennis.csv\"\n",
    "\n",
    "\n",
    "def read_csv():\n",
    "    pass\n"
   ]
  },
  {
   "cell_type": "markdown",
   "id": "6bb54dca",
   "metadata": {},
   "source": [
    "# Be in my shoes as an OT ♥"
   ]
  },
  {
   "cell_type": "markdown",
   "id": "aedff0b7",
   "metadata": {},
   "source": []
  },
  {
   "cell_type": "code",
   "execution_count": null,
   "id": "89b6688a",
   "metadata": {},
   "outputs": [],
   "source": []
  }
 ],
 "metadata": {
  "kernelspec": {
   "display_name": "Python 3 (ipykernel)",
   "language": "python",
   "name": "python3"
  },
  "language_info": {
   "codemirror_mode": {
    "name": "ipython",
    "version": 3
   },
   "file_extension": ".py",
   "mimetype": "text/x-python",
   "name": "python",
   "nbconvert_exporter": "python",
   "pygments_lexer": "ipython3",
   "version": "3.10.4"
  }
 },
 "nbformat": 4,
 "nbformat_minor": 5
}
